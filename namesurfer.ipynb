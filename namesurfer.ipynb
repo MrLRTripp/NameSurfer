{
 "cells": [
  {
   "cell_type": "markdown",
   "metadata": {},
   "source": [
    "# Name Surfer\n",
    "\n",
    "**Data Wrangling, Exploritory Data Analysis (EDA), and Data Visualization** using Python, Pandas, Numpy, Plotly\n",
    "\n",
    "Based on NameSurfer assignment Stanford CS106A - Programming Methodology https://see.stanford.edu/materials/icspmcs106a/39-assignment-6-name-surfer.pdf\n",
    "\n",
    "The data is from SSA https://www.ssa.gov/OACT/babynames/limits.html\n",
    "\n",
    "Instead of using Java to create it, use Python and the graphics and dashboard tools.\n",
    "It would be a fun enhancement to see a kind of heat map of a name on the continental us. For a given name, the color of the state would represent the popularity in that state. Can we see a migration of names? \n",
    "\n",
    "I would also like to see the appearance of names in states and how they change rank over time."
   ]
  },
  {
   "cell_type": "code",
   "execution_count": 2,
   "metadata": {},
   "outputs": [],
   "source": [
    "# Read the CSV files with \n",
    "# State abbreviation,Sex,Year, Name, Number of occurrences\n",
    "import pandas as pd\n",
    "import datetime\n",
    "from pathlib import Path\n",
    "import matplotlib.pyplot as plt"
   ]
  },
  {
   "cell_type": "code",
   "execution_count": 6,
   "metadata": {},
   "outputs": [],
   "source": [
    "# Create an empty DataFrame since the files don't have headers\n",
    "names_df = pd.DataFrame(columns=['State','Sex','Year','Name','NumOccurrences'])\n",
    "\n",
    "files_path = Path('E:/UserLo/source/repos/learning/Name Surfer/NamesByState')\n",
    "files_list = list (files_path.glob('*.txt'))\n",
    "for f in files_list:\n",
    "    with f.open(\"r\") as f_h:\n",
    "        state_df = pd.read_csv(f_h,header=None,names=['State','Sex','Year','Name','NumOccurrences'])\n",
    "        names_df=pd.concat([names_df,state_df],axis=0, copy=False)\n"
   ]
  },
  {
   "cell_type": "code",
   "execution_count": 7,
   "metadata": {},
   "outputs": [],
   "source": [
    "# No need to convert Year to datatime since it only has year. Just convert to int32\n",
    "# names_df['Year'] = pd.to_datetime(names_df['Year'])\n",
    "\n",
    "names_df = names_df.astype({'Year':'int32','NumOccurrences': 'int32'})"
   ]
  },
  {
   "cell_type": "code",
   "execution_count": 77,
   "metadata": {},
   "outputs": [
    {
     "data": {
      "text/html": [
       "<div>\n",
       "<style scoped>\n",
       "    .dataframe tbody tr th:only-of-type {\n",
       "        vertical-align: middle;\n",
       "    }\n",
       "\n",
       "    .dataframe tbody tr th {\n",
       "        vertical-align: top;\n",
       "    }\n",
       "\n",
       "    .dataframe thead th {\n",
       "        text-align: right;\n",
       "    }\n",
       "</style>\n",
       "<table border=\"1\" class=\"dataframe\">\n",
       "  <thead>\n",
       "    <tr style=\"text-align: right;\">\n",
       "      <th></th>\n",
       "      <th>State</th>\n",
       "      <th>Sex</th>\n",
       "      <th>Year</th>\n",
       "      <th>Name</th>\n",
       "      <th>NumOccurrences</th>\n",
       "    </tr>\n",
       "  </thead>\n",
       "  <tbody>\n",
       "    <tr>\n",
       "      <th>0</th>\n",
       "      <td>AK</td>\n",
       "      <td>F</td>\n",
       "      <td>1910</td>\n",
       "      <td>Mary</td>\n",
       "      <td>14</td>\n",
       "    </tr>\n",
       "    <tr>\n",
       "      <th>1</th>\n",
       "      <td>AK</td>\n",
       "      <td>F</td>\n",
       "      <td>1910</td>\n",
       "      <td>Annie</td>\n",
       "      <td>12</td>\n",
       "    </tr>\n",
       "    <tr>\n",
       "      <th>2</th>\n",
       "      <td>AK</td>\n",
       "      <td>F</td>\n",
       "      <td>1910</td>\n",
       "      <td>Anna</td>\n",
       "      <td>10</td>\n",
       "    </tr>\n",
       "    <tr>\n",
       "      <th>3</th>\n",
       "      <td>AK</td>\n",
       "      <td>F</td>\n",
       "      <td>1910</td>\n",
       "      <td>Margaret</td>\n",
       "      <td>8</td>\n",
       "    </tr>\n",
       "    <tr>\n",
       "      <th>4</th>\n",
       "      <td>AK</td>\n",
       "      <td>F</td>\n",
       "      <td>1910</td>\n",
       "      <td>Helen</td>\n",
       "      <td>7</td>\n",
       "    </tr>\n",
       "  </tbody>\n",
       "</table>\n",
       "</div>"
      ],
      "text/plain": [
       "  State Sex  Year      Name  NumOccurrences\n",
       "0    AK   F  1910      Mary              14\n",
       "1    AK   F  1910     Annie              12\n",
       "2    AK   F  1910      Anna              10\n",
       "3    AK   F  1910  Margaret               8\n",
       "4    AK   F  1910     Helen               7"
      ]
     },
     "execution_count": 77,
     "metadata": {},
     "output_type": "execute_result"
    }
   ],
   "source": [
    "names_df.head()"
   ]
  },
  {
   "cell_type": "code",
   "execution_count": 78,
   "metadata": {},
   "outputs": [
    {
     "data": {
      "text/plain": [
       "State             object\n",
       "Sex               object\n",
       "Year               int32\n",
       "Name              object\n",
       "NumOccurrences     int32\n",
       "dtype: object"
      ]
     },
     "execution_count": 78,
     "metadata": {},
     "output_type": "execute_result"
    }
   ],
   "source": [
    "names_df.dtypes"
   ]
  },
  {
   "cell_type": "code",
   "execution_count": 65,
   "metadata": {},
   "outputs": [
    {
     "name": "stdout",
     "output_type": "stream",
     "text": [
      "<class 'pandas.core.frame.DataFrame'>\n",
      "Int64Index: 166799 entries, 0 to 137442\n",
      "Data columns (total 5 columns):\n",
      " #   Column          Non-Null Count   Dtype         \n",
      "---  ------          --------------   -----         \n",
      " 0   State           166799 non-null  object        \n",
      " 1   Sex             166799 non-null  object        \n",
      " 2   Year            166799 non-null  datetime64[ns]\n",
      " 3   Name            166799 non-null  object        \n",
      " 4   NumOccurrences  166799 non-null  int32         \n",
      "dtypes: datetime64[ns](1), int32(1), object(3)\n",
      "memory usage: 7.0+ MB\n"
     ]
    }
   ],
   "source": [
    "names_df.info()"
   ]
  },
  {
   "cell_type": "code",
   "execution_count": 162,
   "metadata": {},
   "outputs": [],
   "source": [
    "def compute_rank(df,state,sex, year, name):\n",
    "    \"\"\"\n",
    "    Given the state, sex, year and name determine the rank for the sex and overall rank.\n",
    "    All the names with the same count will get the same rank. There are many names that have same count.\n",
    "    \"\"\"\n",
    "    # Find number of occurrences for a given name\n",
    "    name_row = df[(df['State']==state) &  (df['Sex']==sex) & (df['Year']==year) &  (df['Name']==name)]\n",
    "    if not(name_row.empty): # Name exists for the given state, sex, year\n",
    "        name_occurrence = name_row.reset_index().at[0,'NumOccurrences']\n",
    "    \n",
    "        # Create a DataFrame grouped by NumOccurrances.\n",
    "        # Recall that many names will have the same number of occurrences.\n",
    "        name_occurrences_df = df[(df['State']==state) &  (df['Sex']==sex) & (df['Year']==year)].groupby(by='NumOccurrences').count().reset_index()\n",
    "\n",
    "        # The rank is computed by summing the number of occurrences greater than the currnet name occurrence and adding 1\n",
    "        return name_occurrences_df[name_occurrences_df['NumOccurrences']>name_occurrence]['Name'].sum() + 1\n",
    "    else: # Name does not exist for the given state, sex, year so return 0\n",
    "        return 0\n",
    "    \n"
   ]
  },
  {
   "cell_type": "code",
   "execution_count": 156,
   "metadata": {},
   "outputs": [],
   "source": [
    "name_row = names_df[(names_df['State']=='AL') &  (names_df['Sex']=='M') & (names_df['Year']==1947) &  (names_df['Name']=='Zazoo')]"
   ]
  },
  {
   "cell_type": "code",
   "execution_count": 163,
   "metadata": {},
   "outputs": [
    {
     "data": {
      "text/plain": [
       "0"
      ]
     },
     "execution_count": 163,
     "metadata": {},
     "output_type": "execute_result"
    }
   ],
   "source": [
    "t= compute_rank(names_df,'AL','M',1947,'zazoo')\n",
    "t"
   ]
  },
  {
   "cell_type": "code",
   "execution_count": 149,
   "metadata": {},
   "outputs": [
    {
     "data": {
      "text/plain": [
       "4"
      ]
     },
     "execution_count": 149,
     "metadata": {},
     "output_type": "execute_result"
    }
   ],
   "source": [
    "compute_rank(names_df,'AK','F',1910,'Margaret')"
   ]
  },
  {
   "cell_type": "code",
   "execution_count": 175,
   "metadata": {},
   "outputs": [],
   "source": [
    "def compute_rank_df(df,state,sex, year_range, name):\n",
    "    rank_list=[]\n",
    "    for y in year_range:\n",
    "        rank_list.append([name, y, compute_rank(df,state,sex,y,name)])\n",
    "    \n",
    "    return pd.DataFrame(rank_list,columns=['Name','Year','Rank'])"
   ]
  },
  {
   "cell_type": "code",
   "execution_count": 177,
   "metadata": {},
   "outputs": [],
   "source": [
    "t= compute_rank_df(names_df,'AL','M',range(1960,2000,1),'James')"
   ]
  },
  {
   "cell_type": "code",
   "execution_count": 178,
   "metadata": {},
   "outputs": [
    {
     "name": "stdout",
     "output_type": "stream",
     "text": [
      "<class 'pandas.core.frame.DataFrame'>\n",
      "RangeIndex: 40 entries, 0 to 39\n",
      "Data columns (total 3 columns):\n",
      " #   Column  Non-Null Count  Dtype \n",
      "---  ------  --------------  ----- \n",
      " 0   Name    40 non-null     object\n",
      " 1   Year    40 non-null     int64 \n",
      " 2   Rank    40 non-null     int64 \n",
      "dtypes: int64(2), object(1)\n",
      "memory usage: 1.1+ KB\n"
     ]
    }
   ],
   "source": [
    "t.info()"
   ]
  },
  {
   "cell_type": "code",
   "execution_count": 669,
   "metadata": {},
   "outputs": [],
   "source": [
    "%matplotlib inline"
   ]
  },
  {
   "cell_type": "code",
   "execution_count": 345,
   "metadata": {},
   "outputs": [],
   "source": [
    "# Compute rank for top 1000 names for decade starting with 1910\n",
    "distinct_names = names_df[names_df['Year'].isin(range(1910, 1920))]['Name'].unique()\n",
    "name_occurrences_df = names_df[(names_df['State']=='AL') &  (names_df['Sex']=='M') & \n",
    "    (names_df['Year'].isin(range(1910, 1920))) & \n",
    "    (names_df['Name'].isin(distinct_names))].groupby(by=['Name']).sum()"
   ]
  },
  {
   "cell_type": "code",
   "execution_count": 350,
   "metadata": {},
   "outputs": [],
   "source": [
    "name_occurrences_df = name_occurrences_df.sort_values('NumOccurrences', ascending=False).reset_index().iloc[0:1000]"
   ]
  },
  {
   "cell_type": "code",
   "execution_count": 353,
   "metadata": {},
   "outputs": [
    {
     "data": {
      "text/html": [
       "<div>\n",
       "<style scoped>\n",
       "    .dataframe tbody tr th:only-of-type {\n",
       "        vertical-align: middle;\n",
       "    }\n",
       "\n",
       "    .dataframe tbody tr th {\n",
       "        vertical-align: top;\n",
       "    }\n",
       "\n",
       "    .dataframe thead th {\n",
       "        text-align: right;\n",
       "    }\n",
       "</style>\n",
       "<table border=\"1\" class=\"dataframe\">\n",
       "  <thead>\n",
       "    <tr style=\"text-align: right;\">\n",
       "      <th></th>\n",
       "      <th>Name</th>\n",
       "      <th>Year</th>\n",
       "      <th>NumOccurrences</th>\n",
       "    </tr>\n",
       "  </thead>\n",
       "  <tbody>\n",
       "    <tr>\n",
       "      <th>0</th>\n",
       "      <td>James</td>\n",
       "      <td>19145</td>\n",
       "      <td>12966</td>\n",
       "    </tr>\n",
       "    <tr>\n",
       "      <th>1</th>\n",
       "      <td>John</td>\n",
       "      <td>19145</td>\n",
       "      <td>9258</td>\n",
       "    </tr>\n",
       "    <tr>\n",
       "      <th>2</th>\n",
       "      <td>William</td>\n",
       "      <td>19145</td>\n",
       "      <td>8817</td>\n",
       "    </tr>\n",
       "    <tr>\n",
       "      <th>3</th>\n",
       "      <td>Robert</td>\n",
       "      <td>19145</td>\n",
       "      <td>6141</td>\n",
       "    </tr>\n",
       "    <tr>\n",
       "      <th>4</th>\n",
       "      <td>Willie</td>\n",
       "      <td>19145</td>\n",
       "      <td>5734</td>\n",
       "    </tr>\n",
       "  </tbody>\n",
       "</table>\n",
       "</div>"
      ],
      "text/plain": [
       "      Name   Year  NumOccurrences\n",
       "0    James  19145           12966\n",
       "1     John  19145            9258\n",
       "2  William  19145            8817\n",
       "3   Robert  19145            6141\n",
       "4   Willie  19145            5734"
      ]
     },
     "execution_count": 353,
     "metadata": {},
     "output_type": "execute_result"
    }
   ],
   "source": [
    "name_occurrences_df.head()"
   ]
  },
  {
   "cell_type": "code",
   "execution_count": 398,
   "metadata": {},
   "outputs": [
    {
     "data": {
      "text/html": [
       "<div>\n",
       "<style scoped>\n",
       "    .dataframe tbody tr th:only-of-type {\n",
       "        vertical-align: middle;\n",
       "    }\n",
       "\n",
       "    .dataframe tbody tr th {\n",
       "        vertical-align: top;\n",
       "    }\n",
       "\n",
       "    .dataframe thead th {\n",
       "        text-align: right;\n",
       "    }\n",
       "</style>\n",
       "<table border=\"1\" class=\"dataframe\">\n",
       "  <thead>\n",
       "    <tr style=\"text-align: right;\">\n",
       "      <th></th>\n",
       "      <th>NumOccurrences</th>\n",
       "      <th>Name</th>\n",
       "      <th>Year</th>\n",
       "    </tr>\n",
       "  </thead>\n",
       "  <tbody>\n",
       "    <tr>\n",
       "      <th>0</th>\n",
       "      <td>12966</td>\n",
       "      <td>1</td>\n",
       "      <td>1</td>\n",
       "    </tr>\n",
       "    <tr>\n",
       "      <th>1</th>\n",
       "      <td>9258</td>\n",
       "      <td>1</td>\n",
       "      <td>1</td>\n",
       "    </tr>\n",
       "    <tr>\n",
       "      <th>2</th>\n",
       "      <td>8817</td>\n",
       "      <td>1</td>\n",
       "      <td>1</td>\n",
       "    </tr>\n",
       "    <tr>\n",
       "      <th>3</th>\n",
       "      <td>6141</td>\n",
       "      <td>1</td>\n",
       "      <td>1</td>\n",
       "    </tr>\n",
       "    <tr>\n",
       "      <th>4</th>\n",
       "      <td>5734</td>\n",
       "      <td>1</td>\n",
       "      <td>1</td>\n",
       "    </tr>\n",
       "    <tr>\n",
       "      <th>...</th>\n",
       "      <td>...</td>\n",
       "      <td>...</td>\n",
       "      <td>...</td>\n",
       "    </tr>\n",
       "    <tr>\n",
       "      <th>264</th>\n",
       "      <td>9</td>\n",
       "      <td>1</td>\n",
       "      <td>1</td>\n",
       "    </tr>\n",
       "    <tr>\n",
       "      <th>265</th>\n",
       "      <td>8</td>\n",
       "      <td>4</td>\n",
       "      <td>4</td>\n",
       "    </tr>\n",
       "    <tr>\n",
       "      <th>266</th>\n",
       "      <td>7</td>\n",
       "      <td>10</td>\n",
       "      <td>10</td>\n",
       "    </tr>\n",
       "    <tr>\n",
       "      <th>267</th>\n",
       "      <td>6</td>\n",
       "      <td>35</td>\n",
       "      <td>35</td>\n",
       "    </tr>\n",
       "    <tr>\n",
       "      <th>268</th>\n",
       "      <td>5</td>\n",
       "      <td>96</td>\n",
       "      <td>96</td>\n",
       "    </tr>\n",
       "  </tbody>\n",
       "</table>\n",
       "<p>269 rows × 3 columns</p>\n",
       "</div>"
      ],
      "text/plain": [
       "     NumOccurrences  Name  Year\n",
       "0             12966     1     1\n",
       "1              9258     1     1\n",
       "2              8817     1     1\n",
       "3              6141     1     1\n",
       "4              5734     1     1\n",
       "..              ...   ...   ...\n",
       "264               9     1     1\n",
       "265               8     4     4\n",
       "266               7    10    10\n",
       "267               6    35    35\n",
       "268               5    96    96\n",
       "\n",
       "[269 rows x 3 columns]"
      ]
     },
     "execution_count": 398,
     "metadata": {},
     "output_type": "execute_result"
    }
   ],
   "source": [
    "# Some names have same # of occurrences so they should all get same rank\n",
    "# For instance 35 names have 6 total occurrences\n",
    "count_of_occurrences_df = name_occurrences_df.groupby('NumOccurrences').count().sort_values('NumOccurrences',ascending=False).reset_index()\n",
    "count_of_occurrences_df"
   ]
  },
  {
   "cell_type": "code",
   "execution_count": 341,
   "metadata": {},
   "outputs": [
    {
     "data": {
      "text/plain": [
       "array(['Mary', 'Annie', 'Anna', ..., 'Sims', 'Stewart', 'Westley'],\n",
       "      dtype=object)"
      ]
     },
     "execution_count": 341,
     "metadata": {},
     "output_type": "execute_result"
    }
   ],
   "source": [
    "names_df[names_df['Year'].isin(range(1910, 1920))]['Name'].unique()"
   ]
  },
  {
   "cell_type": "code",
   "execution_count": null,
   "metadata": {},
   "outputs": [],
   "source": [
    "import numpy as np"
   ]
  },
  {
   "cell_type": "code",
   "execution_count": 435,
   "metadata": {},
   "outputs": [
    {
     "name": "stdout",
     "output_type": "stream",
     "text": [
      "Number of unique Male names: 2957\n",
      "Percentage of male names common with female names: 19.82%\n",
      "Number of unique Female names: 4525 \n",
      "Percentage of female names common with male names: 12.95%\n",
      "Number of names common to both: 586\n"
     ]
    }
   ],
   "source": [
    "# There are many names that are both Male and Female.\n",
    "male_df = names_df[names_df['Sex']=='M']['Name'].unique()\n",
    "female_df = names_df[names_df['Sex']=='F']['Name'].unique()\n",
    "j = np.intersect1d(male_df,female_df)\n",
    "print (f'Number of unique Male names: {male_df.shape[0]}\\n\\\n",
    "Percentage of male names common with female names: {j.shape[0]/male_df.shape[0]:.2%}\\n\\\n",
    "Number of unique Female names: {female_df.shape[0]} \\n\\\n",
    "Percentage of female names common with male names: {j.shape[0]/female_df.shape[0]:.2%}\\n\\\n",
    "Number of names common to both: {j.shape[0]}')"
   ]
  },
  {
   "cell_type": "markdown",
   "metadata": {},
   "source": [
    "Process of ranking a name based on number of occurrences within a group follows the same steps. \n",
    "1. Determine the group filters. The group filters are: \n",
    "- List of states. A single value can be provided as a string, i.e. 'AK' or ['AK'] will work. Default to all states\n",
    "- List of sexes. A single value can be provided as a string, i.e. 'F' or ['F'] will work.Default to 'All'\n",
    "- List or range of years. A single value can be provided as an int, i.e. 1910 or [1910] will work. Ex. [1910, 1911, 1912] or range(1910, 1913). Default 'All'\n",
    "2. Get the unique names based on group filters\n",
    "3. Sum the number of occurrences for each name\n",
    "4. Count the number of names that have the same number of occurrences in the group. \n",
    "  This is needed because some names have same # of occurrences so they should all get same rank.\n",
    "5. Rank all the names based on number of occurrences.\n",
    "6. Look up rank of individual name in group, as needed.\n"
   ]
  },
  {
   "cell_type": "code",
   "execution_count": 4,
   "metadata": {},
   "outputs": [],
   "source": [
    "def compute_name_occurences (df,states, sexes, years):\n",
    "    \"\"\" df is the names DataFrame that has columns \n",
    "    ['State', 'Sex', 'Year', 'Name', 'NumOccurrences'], Year and NumOccurrences are int32\n",
    "    states, sexes and years can be list, range, or set\n",
    "    Note:\n",
    "    Between 10% and 20% Male and Female names are the same so be aware when using both sexes\n",
    "    \"\"\"\n",
    "    distinct_names = df[(df['State'].isin(states)) & (df['Sex'].isin(sexes)) & (df['Year'].isin(years))]['Name'].unique()\n",
    "\n",
    "    name_occurrences_df = df[(df['State'].isin(states)) & (df['Sex'].isin(sexes)) & (df['Year'].isin(years)) & \n",
    "        (df['Name'].isin(distinct_names))].groupby(by=['Name']).sum()\n",
    "    name_occurrences_df = name_occurrences_df.sort_values('NumOccurrences', ascending=False).reset_index()\n",
    "\n",
    "    return name_occurrences_df[['Name','NumOccurrences']]"
   ]
  },
  {
   "cell_type": "code",
   "execution_count": 4,
   "metadata": {},
   "outputs": [
    {
     "data": {
      "text/html": [
       "<div>\n",
       "<style scoped>\n",
       "    .dataframe tbody tr th:only-of-type {\n",
       "        vertical-align: middle;\n",
       "    }\n",
       "\n",
       "    .dataframe tbody tr th {\n",
       "        vertical-align: top;\n",
       "    }\n",
       "\n",
       "    .dataframe thead th {\n",
       "        text-align: right;\n",
       "    }\n",
       "</style>\n",
       "<table border=\"1\" class=\"dataframe\">\n",
       "  <thead>\n",
       "    <tr style=\"text-align: right;\">\n",
       "      <th></th>\n",
       "      <th>Name</th>\n",
       "      <th>NumOccurrences</th>\n",
       "    </tr>\n",
       "  </thead>\n",
       "  <tbody>\n",
       "    <tr>\n",
       "      <th>0</th>\n",
       "      <td>Mary</td>\n",
       "      <td>35</td>\n",
       "    </tr>\n",
       "    <tr>\n",
       "      <th>1</th>\n",
       "      <td>Helen</td>\n",
       "      <td>20</td>\n",
       "    </tr>\n",
       "    <tr>\n",
       "      <th>2</th>\n",
       "      <td>Margaret</td>\n",
       "      <td>20</td>\n",
       "    </tr>\n",
       "    <tr>\n",
       "      <th>3</th>\n",
       "      <td>Annie</td>\n",
       "      <td>18</td>\n",
       "    </tr>\n",
       "    <tr>\n",
       "      <th>4</th>\n",
       "      <td>Anna</td>\n",
       "      <td>17</td>\n",
       "    </tr>\n",
       "    <tr>\n",
       "      <th>5</th>\n",
       "      <td>Elsie</td>\n",
       "      <td>14</td>\n",
       "    </tr>\n",
       "    <tr>\n",
       "      <th>6</th>\n",
       "      <td>Ruth</td>\n",
       "      <td>13</td>\n",
       "    </tr>\n",
       "    <tr>\n",
       "      <th>7</th>\n",
       "      <td>Louise</td>\n",
       "      <td>7</td>\n",
       "    </tr>\n",
       "    <tr>\n",
       "      <th>8</th>\n",
       "      <td>Agnes</td>\n",
       "      <td>7</td>\n",
       "    </tr>\n",
       "    <tr>\n",
       "      <th>9</th>\n",
       "      <td>Jean</td>\n",
       "      <td>6</td>\n",
       "    </tr>\n",
       "    <tr>\n",
       "      <th>10</th>\n",
       "      <td>Lucy</td>\n",
       "      <td>6</td>\n",
       "    </tr>\n",
       "    <tr>\n",
       "      <th>11</th>\n",
       "      <td>Elizabeth</td>\n",
       "      <td>6</td>\n",
       "    </tr>\n",
       "    <tr>\n",
       "      <th>12</th>\n",
       "      <td>Alice</td>\n",
       "      <td>5</td>\n",
       "    </tr>\n",
       "    <tr>\n",
       "      <th>13</th>\n",
       "      <td>Esther</td>\n",
       "      <td>5</td>\n",
       "    </tr>\n",
       "    <tr>\n",
       "      <th>14</th>\n",
       "      <td>Marie</td>\n",
       "      <td>5</td>\n",
       "    </tr>\n",
       "    <tr>\n",
       "      <th>15</th>\n",
       "      <td>Dorothy</td>\n",
       "      <td>5</td>\n",
       "    </tr>\n",
       "    <tr>\n",
       "      <th>16</th>\n",
       "      <td>Ethel</td>\n",
       "      <td>5</td>\n",
       "    </tr>\n",
       "  </tbody>\n",
       "</table>\n",
       "</div>"
      ],
      "text/plain": [
       "         Name  NumOccurrences\n",
       "0        Mary              35\n",
       "1       Helen              20\n",
       "2    Margaret              20\n",
       "3       Annie              18\n",
       "4        Anna              17\n",
       "5       Elsie              14\n",
       "6        Ruth              13\n",
       "7      Louise               7\n",
       "8       Agnes               7\n",
       "9        Jean               6\n",
       "10       Lucy               6\n",
       "11  Elizabeth               6\n",
       "12      Alice               5\n",
       "13     Esther               5\n",
       "14      Marie               5\n",
       "15    Dorothy               5\n",
       "16      Ethel               5"
      ]
     },
     "execution_count": 4,
     "metadata": {},
     "output_type": "execute_result"
    }
   ],
   "source": [
    "dn= compute_name_occurences(names_df,['AK'],{'F'},range(1910,1913))\n",
    "dn"
   ]
  },
  {
   "cell_type": "code",
   "execution_count": 399,
   "metadata": {},
   "outputs": [
    {
     "data": {
      "text/html": [
       "<div>\n",
       "<style scoped>\n",
       "    .dataframe tbody tr th:only-of-type {\n",
       "        vertical-align: middle;\n",
       "    }\n",
       "\n",
       "    .dataframe tbody tr th {\n",
       "        vertical-align: top;\n",
       "    }\n",
       "\n",
       "    .dataframe thead th {\n",
       "        text-align: right;\n",
       "    }\n",
       "</style>\n",
       "<table border=\"1\" class=\"dataframe\">\n",
       "  <thead>\n",
       "    <tr style=\"text-align: right;\">\n",
       "      <th></th>\n",
       "      <th>NumOccurrences</th>\n",
       "      <th>Name</th>\n",
       "    </tr>\n",
       "  </thead>\n",
       "  <tbody>\n",
       "    <tr>\n",
       "      <th>0</th>\n",
       "      <td>35</td>\n",
       "      <td>1</td>\n",
       "    </tr>\n",
       "    <tr>\n",
       "      <th>1</th>\n",
       "      <td>20</td>\n",
       "      <td>2</td>\n",
       "    </tr>\n",
       "    <tr>\n",
       "      <th>2</th>\n",
       "      <td>18</td>\n",
       "      <td>1</td>\n",
       "    </tr>\n",
       "    <tr>\n",
       "      <th>3</th>\n",
       "      <td>17</td>\n",
       "      <td>1</td>\n",
       "    </tr>\n",
       "    <tr>\n",
       "      <th>4</th>\n",
       "      <td>14</td>\n",
       "      <td>1</td>\n",
       "    </tr>\n",
       "    <tr>\n",
       "      <th>5</th>\n",
       "      <td>13</td>\n",
       "      <td>1</td>\n",
       "    </tr>\n",
       "    <tr>\n",
       "      <th>6</th>\n",
       "      <td>7</td>\n",
       "      <td>2</td>\n",
       "    </tr>\n",
       "    <tr>\n",
       "      <th>7</th>\n",
       "      <td>6</td>\n",
       "      <td>3</td>\n",
       "    </tr>\n",
       "    <tr>\n",
       "      <th>8</th>\n",
       "      <td>5</td>\n",
       "      <td>5</td>\n",
       "    </tr>\n",
       "  </tbody>\n",
       "</table>\n",
       "</div>"
      ],
      "text/plain": [
       "   NumOccurrences  Name\n",
       "0              35     1\n",
       "1              20     2\n",
       "2              18     1\n",
       "3              17     1\n",
       "4              14     1\n",
       "5              13     1\n",
       "6               7     2\n",
       "7               6     3\n",
       "8               5     5"
      ]
     },
     "execution_count": 399,
     "metadata": {},
     "output_type": "execute_result"
    }
   ],
   "source": [
    "count_of_occurrences_df = dn.groupby('NumOccurrences').count().sort_values('NumOccurrences',ascending=False).reset_index()\n",
    "count_of_occurrences_df"
   ]
  },
  {
   "cell_type": "code",
   "execution_count": 438,
   "metadata": {},
   "outputs": [
    {
     "data": {
      "text/plain": [
       "4"
      ]
     },
     "execution_count": 438,
     "metadata": {},
     "output_type": "execute_result"
    }
   ],
   "source": [
    "count_of_occurrences_df[count_of_occurrences_df['NumOccurrences']>18]['Name'].sum() + 1"
   ]
  },
  {
   "cell_type": "code",
   "execution_count": 450,
   "metadata": {},
   "outputs": [],
   "source": [
    "all_df=compute_name_occurences (names_df,['AK','AL'], ['M','F'], range(1900,2100))"
   ]
  },
  {
   "cell_type": "code",
   "execution_count": 457,
   "metadata": {},
   "outputs": [
    {
     "data": {
      "text/html": [
       "<div>\n",
       "<style scoped>\n",
       "    .dataframe tbody tr th:only-of-type {\n",
       "        vertical-align: middle;\n",
       "    }\n",
       "\n",
       "    .dataframe tbody tr th {\n",
       "        vertical-align: top;\n",
       "    }\n",
       "\n",
       "    .dataframe thead th {\n",
       "        text-align: right;\n",
       "    }\n",
       "</style>\n",
       "<table border=\"1\" class=\"dataframe\">\n",
       "  <thead>\n",
       "    <tr style=\"text-align: right;\">\n",
       "      <th></th>\n",
       "      <th>Name</th>\n",
       "      <th>NumOccurrences</th>\n",
       "    </tr>\n",
       "  </thead>\n",
       "  <tbody>\n",
       "    <tr>\n",
       "      <th>0</th>\n",
       "      <td>James</td>\n",
       "      <td>166365</td>\n",
       "    </tr>\n",
       "    <tr>\n",
       "      <th>1</th>\n",
       "      <td>Mary</td>\n",
       "      <td>120663</td>\n",
       "    </tr>\n",
       "    <tr>\n",
       "      <th>2</th>\n",
       "      <td>William</td>\n",
       "      <td>108636</td>\n",
       "    </tr>\n",
       "    <tr>\n",
       "      <th>3</th>\n",
       "      <td>John</td>\n",
       "      <td>105246</td>\n",
       "    </tr>\n",
       "    <tr>\n",
       "      <th>4</th>\n",
       "      <td>Robert</td>\n",
       "      <td>88855</td>\n",
       "    </tr>\n",
       "  </tbody>\n",
       "</table>\n",
       "</div>"
      ],
      "text/plain": [
       "      Name  NumOccurrences\n",
       "0    James          166365\n",
       "1     Mary          120663\n",
       "2  William          108636\n",
       "3     John          105246\n",
       "4   Robert           88855"
      ]
     },
     "execution_count": 457,
     "metadata": {},
     "output_type": "execute_result"
    }
   ],
   "source": [
    "all_df.head()"
   ]
  },
  {
   "cell_type": "code",
   "execution_count": 458,
   "metadata": {},
   "outputs": [
    {
     "data": {
      "text/html": [
       "<div>\n",
       "<style scoped>\n",
       "    .dataframe tbody tr th:only-of-type {\n",
       "        vertical-align: middle;\n",
       "    }\n",
       "\n",
       "    .dataframe tbody tr th {\n",
       "        vertical-align: top;\n",
       "    }\n",
       "\n",
       "    .dataframe thead th {\n",
       "        text-align: right;\n",
       "    }\n",
       "</style>\n",
       "<table border=\"1\" class=\"dataframe\">\n",
       "  <thead>\n",
       "    <tr style=\"text-align: right;\">\n",
       "      <th></th>\n",
       "      <th>NumOccurrences</th>\n",
       "      <th>Name</th>\n",
       "    </tr>\n",
       "  </thead>\n",
       "  <tbody>\n",
       "    <tr>\n",
       "      <th>0</th>\n",
       "      <td>166365</td>\n",
       "      <td>1</td>\n",
       "    </tr>\n",
       "    <tr>\n",
       "      <th>1</th>\n",
       "      <td>120663</td>\n",
       "      <td>1</td>\n",
       "    </tr>\n",
       "    <tr>\n",
       "      <th>2</th>\n",
       "      <td>108636</td>\n",
       "      <td>1</td>\n",
       "    </tr>\n",
       "    <tr>\n",
       "      <th>3</th>\n",
       "      <td>105246</td>\n",
       "      <td>1</td>\n",
       "    </tr>\n",
       "    <tr>\n",
       "      <th>4</th>\n",
       "      <td>88855</td>\n",
       "      <td>1</td>\n",
       "    </tr>\n",
       "    <tr>\n",
       "      <th>...</th>\n",
       "      <td>...</td>\n",
       "      <td>...</td>\n",
       "    </tr>\n",
       "    <tr>\n",
       "      <th>1612</th>\n",
       "      <td>9</td>\n",
       "      <td>20</td>\n",
       "    </tr>\n",
       "    <tr>\n",
       "      <th>1613</th>\n",
       "      <td>8</td>\n",
       "      <td>43</td>\n",
       "    </tr>\n",
       "    <tr>\n",
       "      <th>1614</th>\n",
       "      <td>7</td>\n",
       "      <td>126</td>\n",
       "    </tr>\n",
       "    <tr>\n",
       "      <th>1615</th>\n",
       "      <td>6</td>\n",
       "      <td>295</td>\n",
       "    </tr>\n",
       "    <tr>\n",
       "      <th>1616</th>\n",
       "      <td>5</td>\n",
       "      <td>984</td>\n",
       "    </tr>\n",
       "  </tbody>\n",
       "</table>\n",
       "<p>1617 rows × 2 columns</p>\n",
       "</div>"
      ],
      "text/plain": [
       "      NumOccurrences  Name\n",
       "0             166365     1\n",
       "1             120663     1\n",
       "2             108636     1\n",
       "3             105246     1\n",
       "4              88855     1\n",
       "...              ...   ...\n",
       "1612               9    20\n",
       "1613               8    43\n",
       "1614               7   126\n",
       "1615               6   295\n",
       "1616               5   984\n",
       "\n",
       "[1617 rows x 2 columns]"
      ]
     },
     "execution_count": 458,
     "metadata": {},
     "output_type": "execute_result"
    }
   ],
   "source": [
    "count_num_occ = all_df.groupby('NumOccurrences').count().sort_values('NumOccurrences',ascending=False).reset_index()\n",
    "count_num_occ"
   ]
  },
  {
   "cell_type": "code",
   "execution_count": 466,
   "metadata": {},
   "outputs": [
    {
     "data": {
      "text/plain": [
       "6896"
      ]
     },
     "execution_count": 466,
     "metadata": {},
     "output_type": "execute_result"
    }
   ],
   "source": [
    "count_num_occ['Name'].sum()"
   ]
  },
  {
   "cell_type": "code",
   "execution_count": 467,
   "metadata": {},
   "outputs": [],
   "source": [
    "# Compute rank for a given NumOccurrences. Then match name to number of occurrences\n",
    "# iterrows\n",
    "# ['NumOccurrences','NumNames','Rank']\n",
    "# NumNames is the number of Names that have number of occurrences equal to NumOccurrences\n",
    "all_ranks = []\n",
    "current_rank = 1\n",
    "for idx, r in count_num_occ.iterrows():\n",
    "    if idx != 0:\n",
    "        current_rank += count_num_occ.loc[idx-1,'Name']\n",
    "\n",
    "    all_ranks.append([r['NumOccurrences'], r['Name'],current_rank])\n",
    "all_ranks_df = pd.DataFrame(all_ranks,columns=['NumOccurrences','NumNames','Rank'])"
   ]
  },
  {
   "cell_type": "code",
   "execution_count": 481,
   "metadata": {},
   "outputs": [
    {
     "data": {
      "text/html": [
       "<div>\n",
       "<style scoped>\n",
       "    .dataframe tbody tr th:only-of-type {\n",
       "        vertical-align: middle;\n",
       "    }\n",
       "\n",
       "    .dataframe tbody tr th {\n",
       "        vertical-align: top;\n",
       "    }\n",
       "\n",
       "    .dataframe thead th {\n",
       "        text-align: right;\n",
       "    }\n",
       "</style>\n",
       "<table border=\"1\" class=\"dataframe\">\n",
       "  <thead>\n",
       "    <tr style=\"text-align: right;\">\n",
       "      <th></th>\n",
       "      <th>NumOccurrences</th>\n",
       "      <th>NumNames</th>\n",
       "      <th>Rank</th>\n",
       "    </tr>\n",
       "  </thead>\n",
       "  <tbody>\n",
       "    <tr>\n",
       "      <th>0</th>\n",
       "      <td>166365</td>\n",
       "      <td>1</td>\n",
       "      <td>1</td>\n",
       "    </tr>\n",
       "    <tr>\n",
       "      <th>1</th>\n",
       "      <td>120663</td>\n",
       "      <td>1</td>\n",
       "      <td>2</td>\n",
       "    </tr>\n",
       "    <tr>\n",
       "      <th>2</th>\n",
       "      <td>108636</td>\n",
       "      <td>1</td>\n",
       "      <td>3</td>\n",
       "    </tr>\n",
       "    <tr>\n",
       "      <th>3</th>\n",
       "      <td>105246</td>\n",
       "      <td>1</td>\n",
       "      <td>4</td>\n",
       "    </tr>\n",
       "    <tr>\n",
       "      <th>4</th>\n",
       "      <td>88855</td>\n",
       "      <td>1</td>\n",
       "      <td>5</td>\n",
       "    </tr>\n",
       "  </tbody>\n",
       "</table>\n",
       "</div>"
      ],
      "text/plain": [
       "   NumOccurrences  NumNames  Rank\n",
       "0          166365         1     1\n",
       "1          120663         1     2\n",
       "2          108636         1     3\n",
       "3          105246         1     4\n",
       "4           88855         1     5"
      ]
     },
     "execution_count": 481,
     "metadata": {},
     "output_type": "execute_result"
    }
   ],
   "source": [
    "all_ranks_df.head()"
   ]
  },
  {
   "cell_type": "code",
   "execution_count": 489,
   "metadata": {},
   "outputs": [],
   "source": [
    "# merge performs a database \n",
    "# This join does the same thing:\n",
    "#   nameRank_df = all_df.join(all_ranks_df.set_index('NumOccurrences'), on='NumOccurrences', how='inner')\n",
    "nameRank_df = all_df.merge(all_ranks_df, on='NumOccurrences',how='inner')"
   ]
  },
  {
   "cell_type": "code",
   "execution_count": 491,
   "metadata": {},
   "outputs": [
    {
     "data": {
      "text/html": [
       "<div>\n",
       "<style scoped>\n",
       "    .dataframe tbody tr th:only-of-type {\n",
       "        vertical-align: middle;\n",
       "    }\n",
       "\n",
       "    .dataframe tbody tr th {\n",
       "        vertical-align: top;\n",
       "    }\n",
       "\n",
       "    .dataframe thead th {\n",
       "        text-align: right;\n",
       "    }\n",
       "</style>\n",
       "<table border=\"1\" class=\"dataframe\">\n",
       "  <thead>\n",
       "    <tr style=\"text-align: right;\">\n",
       "      <th></th>\n",
       "      <th>Name</th>\n",
       "      <th>NumOccurrences</th>\n",
       "      <th>NumNames</th>\n",
       "      <th>Rank</th>\n",
       "    </tr>\n",
       "  </thead>\n",
       "  <tbody>\n",
       "    <tr>\n",
       "      <th>0</th>\n",
       "      <td>James</td>\n",
       "      <td>166365</td>\n",
       "      <td>1</td>\n",
       "      <td>1</td>\n",
       "    </tr>\n",
       "    <tr>\n",
       "      <th>1</th>\n",
       "      <td>Mary</td>\n",
       "      <td>120663</td>\n",
       "      <td>1</td>\n",
       "      <td>2</td>\n",
       "    </tr>\n",
       "    <tr>\n",
       "      <th>2</th>\n",
       "      <td>William</td>\n",
       "      <td>108636</td>\n",
       "      <td>1</td>\n",
       "      <td>3</td>\n",
       "    </tr>\n",
       "    <tr>\n",
       "      <th>3</th>\n",
       "      <td>John</td>\n",
       "      <td>105246</td>\n",
       "      <td>1</td>\n",
       "      <td>4</td>\n",
       "    </tr>\n",
       "    <tr>\n",
       "      <th>4</th>\n",
       "      <td>Robert</td>\n",
       "      <td>88855</td>\n",
       "      <td>1</td>\n",
       "      <td>5</td>\n",
       "    </tr>\n",
       "  </tbody>\n",
       "</table>\n",
       "</div>"
      ],
      "text/plain": [
       "      Name  NumOccurrences  NumNames  Rank\n",
       "0    James          166365         1     1\n",
       "1     Mary          120663         1     2\n",
       "2  William          108636         1     3\n",
       "3     John          105246         1     4\n",
       "4   Robert           88855         1     5"
      ]
     },
     "execution_count": 491,
     "metadata": {},
     "output_type": "execute_result"
    }
   ],
   "source": [
    "nameRank_df.head()\n"
   ]
  },
  {
   "cell_type": "code",
   "execution_count": 478,
   "metadata": {},
   "outputs": [
    {
     "data": {
      "text/html": [
       "<div>\n",
       "<style scoped>\n",
       "    .dataframe tbody tr th:only-of-type {\n",
       "        vertical-align: middle;\n",
       "    }\n",
       "\n",
       "    .dataframe tbody tr th {\n",
       "        vertical-align: top;\n",
       "    }\n",
       "\n",
       "    .dataframe thead th {\n",
       "        text-align: right;\n",
       "    }\n",
       "</style>\n",
       "<table border=\"1\" class=\"dataframe\">\n",
       "  <thead>\n",
       "    <tr style=\"text-align: right;\">\n",
       "      <th></th>\n",
       "      <th>Name</th>\n",
       "      <th>NumOccurrences</th>\n",
       "      <th>NumNames</th>\n",
       "      <th>Rank</th>\n",
       "    </tr>\n",
       "  </thead>\n",
       "  <tbody>\n",
       "    <tr>\n",
       "      <th>6891</th>\n",
       "      <td>Caldonia</td>\n",
       "      <td>5</td>\n",
       "      <td>984</td>\n",
       "      <td>5913</td>\n",
       "    </tr>\n",
       "    <tr>\n",
       "      <th>6892</th>\n",
       "      <td>Porshia</td>\n",
       "      <td>5</td>\n",
       "      <td>984</td>\n",
       "      <td>5913</td>\n",
       "    </tr>\n",
       "    <tr>\n",
       "      <th>6893</th>\n",
       "      <td>Calen</td>\n",
       "      <td>5</td>\n",
       "      <td>984</td>\n",
       "      <td>5913</td>\n",
       "    </tr>\n",
       "    <tr>\n",
       "      <th>6894</th>\n",
       "      <td>Porche</td>\n",
       "      <td>5</td>\n",
       "      <td>984</td>\n",
       "      <td>5913</td>\n",
       "    </tr>\n",
       "    <tr>\n",
       "      <th>6895</th>\n",
       "      <td>Iyanla</td>\n",
       "      <td>5</td>\n",
       "      <td>984</td>\n",
       "      <td>5913</td>\n",
       "    </tr>\n",
       "  </tbody>\n",
       "</table>\n",
       "</div>"
      ],
      "text/plain": [
       "          Name  NumOccurrences  NumNames  Rank\n",
       "6891  Caldonia               5       984  5913\n",
       "6892   Porshia               5       984  5913\n",
       "6893     Calen               5       984  5913\n",
       "6894    Porche               5       984  5913\n",
       "6895    Iyanla               5       984  5913"
      ]
     },
     "execution_count": 478,
     "metadata": {},
     "output_type": "execute_result"
    }
   ],
   "source": [
    "nameRank_df.tail()"
   ]
  },
  {
   "cell_type": "code",
   "execution_count": 493,
   "metadata": {},
   "outputs": [
    {
     "data": {
      "text/html": [
       "<div>\n",
       "<style scoped>\n",
       "    .dataframe tbody tr th:only-of-type {\n",
       "        vertical-align: middle;\n",
       "    }\n",
       "\n",
       "    .dataframe tbody tr th {\n",
       "        vertical-align: top;\n",
       "    }\n",
       "\n",
       "    .dataframe thead th {\n",
       "        text-align: right;\n",
       "    }\n",
       "</style>\n",
       "<table border=\"1\" class=\"dataframe\">\n",
       "  <thead>\n",
       "    <tr style=\"text-align: right;\">\n",
       "      <th></th>\n",
       "      <th>Name</th>\n",
       "      <th>NumOccurrences</th>\n",
       "      <th>NumNames</th>\n",
       "      <th>Rank</th>\n",
       "    </tr>\n",
       "  </thead>\n",
       "  <tbody>\n",
       "    <tr>\n",
       "      <th>560</th>\n",
       "      <td>Bettye</td>\n",
       "      <td>2542</td>\n",
       "      <td>2</td>\n",
       "      <td>561</td>\n",
       "    </tr>\n",
       "    <tr>\n",
       "      <th>590</th>\n",
       "      <td>Lloyd</td>\n",
       "      <td>2332</td>\n",
       "      <td>1</td>\n",
       "      <td>591</td>\n",
       "    </tr>\n",
       "  </tbody>\n",
       "</table>\n",
       "</div>"
      ],
      "text/plain": [
       "       Name  NumOccurrences  NumNames  Rank\n",
       "560  Bettye            2542         2   561\n",
       "590   Lloyd            2332         1   591"
      ]
     },
     "execution_count": 493,
     "metadata": {},
     "output_type": "execute_result"
    }
   ],
   "source": [
    "nameRank_df[nameRank_df['Name'].isin(['Lloyd','Merlin','Bettye'])]"
   ]
  },
  {
   "cell_type": "code",
   "execution_count": 503,
   "metadata": {},
   "outputs": [],
   "source": [
    "def compute_rank_all_names_df(df,states='All', sexes = 'All', years='All'):\n",
    "    \"\"\"\n",
    "    Given the state, sex, year determine the rank for all names in df.\n",
    "    All the names with the same count will get the same rank. There are many names that have same count.\n",
    "    df is the names DataFrame that has columns \n",
    "    ['State', 'Sex', 'Year', 'Name', 'NumOccurrences'], Year and NumOccurrences are int32\n",
    "    \"\"\"\n",
    "    # Find number of occurrences for a given name\n",
    "    if type(states) == str:\n",
    "        if states == 'All':\n",
    "            states = df['State'].unique()  # All the states in the input DataFrame\n",
    "        else:\n",
    "            states = [states] # Make individual state name a list\n",
    "\n",
    "    if type(sexes) == str:\n",
    "        if sexes == 'All':\n",
    "            sexes = ['M','F']  # Both sexes\n",
    "        else:\n",
    "            sexes = [sexes] # Make individual sex a list\n",
    "\n",
    "    if type(years) == str:\n",
    "        if years == 'All': \n",
    "            years = df['Year'].unique() # All the years in the input DataFrame\n",
    "        else:\n",
    "            years = [years] # Make individual year a list\n",
    "\n",
    "\n",
    "    name_occurrences_df = compute_name_occurences (df,states, sexes, years)\n",
    "    count_num_occ = name_occurrences_df.groupby('NumOccurrences').count().sort_values('NumOccurrences',ascending=False).reset_index()\n",
    "\n",
    "    # Compute rank for a given NumOccurrences. Then match name to number of occurrences\n",
    "    # It makes sense to iterate using iterrows since the current_rank keeps accumulating\n",
    "    # ['NumOccurrences','NumNames','Rank']\n",
    "    # NumNames is the number of Names that have number of occurrences equal to NumOccurrences\n",
    "    all_ranks_list = []\n",
    "    current_rank = 1\n",
    "    for idx, r in count_num_occ.iterrows():\n",
    "        if idx != 0:\n",
    "            current_rank += count_num_occ.loc[idx-1,'Name']\n",
    "    \n",
    "        all_ranks_list.append([r['NumOccurrences'], r['Name'],current_rank])\n",
    "    all_ranks_df = pd.DataFrame(all_ranks_list,columns=['NumOccurrences','NumNames','Rank'])\n",
    "\n",
    "    # merge performs a database \n",
    "    # This join does the same thing:\n",
    "    #   nameRank_df = all_df.join(all_ranks_df.set_index('NumOccurrences'), on='NumOccurrences', how='inner')\n",
    "    # Set Name as the index to make it easier to get the rank using .loc\n",
    "    nameRank_df = name_occurrences_df.merge(all_ranks_df, on='NumOccurrences',how='inner').set_index('Name')\n",
    "\n",
    "    return nameRank_df\n",
    "    \n",
    "    \n"
   ]
  },
  {
   "cell_type": "code",
   "execution_count": 454,
   "metadata": {},
   "outputs": [
    {
     "data": {
      "text/plain": [
       "4"
      ]
     },
     "execution_count": 454,
     "metadata": {},
     "output_type": "execute_result"
    }
   ],
   "source": [
    "compute_rank(names_df,'John')"
   ]
  },
  {
   "cell_type": "code",
   "execution_count": 504,
   "metadata": {},
   "outputs": [],
   "source": [
    "rank_of_all_names_df = compute_rank_all_names_df(names_df)"
   ]
  },
  {
   "cell_type": "code",
   "execution_count": 505,
   "metadata": {},
   "outputs": [
    {
     "data": {
      "text/html": [
       "<div>\n",
       "<style scoped>\n",
       "    .dataframe tbody tr th:only-of-type {\n",
       "        vertical-align: middle;\n",
       "    }\n",
       "\n",
       "    .dataframe tbody tr th {\n",
       "        vertical-align: top;\n",
       "    }\n",
       "\n",
       "    .dataframe thead th {\n",
       "        text-align: right;\n",
       "    }\n",
       "</style>\n",
       "<table border=\"1\" class=\"dataframe\">\n",
       "  <thead>\n",
       "    <tr style=\"text-align: right;\">\n",
       "      <th></th>\n",
       "      <th>NumOccurrences</th>\n",
       "      <th>NumNames</th>\n",
       "      <th>Rank</th>\n",
       "    </tr>\n",
       "    <tr>\n",
       "      <th>Name</th>\n",
       "      <th></th>\n",
       "      <th></th>\n",
       "      <th></th>\n",
       "    </tr>\n",
       "  </thead>\n",
       "  <tbody>\n",
       "    <tr>\n",
       "      <th>James</th>\n",
       "      <td>166365</td>\n",
       "      <td>1</td>\n",
       "      <td>1</td>\n",
       "    </tr>\n",
       "    <tr>\n",
       "      <th>Mary</th>\n",
       "      <td>120663</td>\n",
       "      <td>1</td>\n",
       "      <td>2</td>\n",
       "    </tr>\n",
       "    <tr>\n",
       "      <th>William</th>\n",
       "      <td>108636</td>\n",
       "      <td>1</td>\n",
       "      <td>3</td>\n",
       "    </tr>\n",
       "    <tr>\n",
       "      <th>John</th>\n",
       "      <td>105246</td>\n",
       "      <td>1</td>\n",
       "      <td>4</td>\n",
       "    </tr>\n",
       "    <tr>\n",
       "      <th>Robert</th>\n",
       "      <td>88855</td>\n",
       "      <td>1</td>\n",
       "      <td>5</td>\n",
       "    </tr>\n",
       "  </tbody>\n",
       "</table>\n",
       "</div>"
      ],
      "text/plain": [
       "         NumOccurrences  NumNames  Rank\n",
       "Name                                   \n",
       "James            166365         1     1\n",
       "Mary             120663         1     2\n",
       "William          108636         1     3\n",
       "John             105246         1     4\n",
       "Robert            88855         1     5"
      ]
     },
     "execution_count": 505,
     "metadata": {},
     "output_type": "execute_result"
    }
   ],
   "source": [
    "rank_of_all_names_df.head()"
   ]
  },
  {
   "cell_type": "code",
   "execution_count": 579,
   "metadata": {},
   "outputs": [
    {
     "data": {
      "text/plain": [
       "Name\n",
       "James    1\n",
       "John     4\n",
       "Name: Rank, dtype: int64"
      ]
     },
     "execution_count": 579,
     "metadata": {},
     "output_type": "execute_result"
    }
   ],
   "source": [
    "ss = rank_of_all_names_df.loc[['James','John'],'Rank']\n",
    "ss"
   ]
  },
  {
   "cell_type": "code",
   "execution_count": 612,
   "metadata": {},
   "outputs": [
    {
     "data": {
      "text/html": [
       "<div>\n",
       "<style scoped>\n",
       "    .dataframe tbody tr th:only-of-type {\n",
       "        vertical-align: middle;\n",
       "    }\n",
       "\n",
       "    .dataframe tbody tr th {\n",
       "        vertical-align: top;\n",
       "    }\n",
       "\n",
       "    .dataframe thead th {\n",
       "        text-align: right;\n",
       "    }\n",
       "</style>\n",
       "<table border=\"1\" class=\"dataframe\">\n",
       "  <thead>\n",
       "    <tr style=\"text-align: right;\">\n",
       "      <th></th>\n",
       "      <th>Rank1910</th>\n",
       "      <th>Rank1911</th>\n",
       "    </tr>\n",
       "  </thead>\n",
       "  <tbody>\n",
       "    <tr>\n",
       "      <th>James</th>\n",
       "      <td>1.0</td>\n",
       "      <td>3.0</td>\n",
       "    </tr>\n",
       "    <tr>\n",
       "      <th>Mary</th>\n",
       "      <td>2.0</td>\n",
       "      <td>4.0</td>\n",
       "    </tr>\n",
       "    <tr>\n",
       "      <th>zazoo</th>\n",
       "      <td>0.0</td>\n",
       "      <td>6.0</td>\n",
       "    </tr>\n",
       "    <tr>\n",
       "      <th>Aaron</th>\n",
       "      <td>148.0</td>\n",
       "      <td>0.0</td>\n",
       "    </tr>\n",
       "  </tbody>\n",
       "</table>\n",
       "</div>"
      ],
      "text/plain": [
       "       Rank1910  Rank1911\n",
       "James       1.0       3.0\n",
       "Mary        2.0       4.0\n",
       "zazoo       0.0       6.0\n",
       "Aaron     148.0       0.0"
      ]
     },
     "execution_count": 612,
     "metadata": {},
     "output_type": "execute_result"
    }
   ],
   "source": [
    "merged_df = nr.merge(r1911,left_index=True, right_index=True,how='outer')  #,indicator=True)\n",
    "merged_df.fillna(value=0, inplace=True)\n",
    "merged_df.loc[['James','Mary','zazoo','Aaron']]\n",
    "#merged_df.info()"
   ]
  },
  {
   "cell_type": "code",
   "execution_count": 615,
   "metadata": {},
   "outputs": [
    {
     "data": {
      "text/html": [
       "<div>\n",
       "<style scoped>\n",
       "    .dataframe tbody tr th:only-of-type {\n",
       "        vertical-align: middle;\n",
       "    }\n",
       "\n",
       "    .dataframe tbody tr th {\n",
       "        vertical-align: top;\n",
       "    }\n",
       "\n",
       "    .dataframe thead th {\n",
       "        text-align: right;\n",
       "    }\n",
       "</style>\n",
       "<table border=\"1\" class=\"dataframe\">\n",
       "  <thead>\n",
       "    <tr style=\"text-align: right;\">\n",
       "      <th></th>\n",
       "      <th>Rank1911</th>\n",
       "    </tr>\n",
       "  </thead>\n",
       "  <tbody>\n",
       "    <tr>\n",
       "      <th>James</th>\n",
       "      <td>3</td>\n",
       "    </tr>\n",
       "    <tr>\n",
       "      <th>Mary</th>\n",
       "      <td>4</td>\n",
       "    </tr>\n",
       "    <tr>\n",
       "      <th>zazoo</th>\n",
       "      <td>6</td>\n",
       "    </tr>\n",
       "  </tbody>\n",
       "</table>\n",
       "</div>"
      ],
      "text/plain": [
       "       Rank1911\n",
       "James         3\n",
       "Mary          4\n",
       "zazoo         6"
      ]
     },
     "execution_count": 615,
     "metadata": {},
     "output_type": "execute_result"
    }
   ],
   "source": [
    "# Can merge with empty DataFrame\n",
    "empty_df = pd.DataFrame()\n",
    "merged_e_df = empty_df.merge(r1911,left_index=True, right_index=True,how='outer')  #,indicator=True)\n",
    "merged_e_df.fillna(value=0, inplace=True)\n",
    "merged_e_df.loc[['James','Mary','zazoo']]"
   ]
  },
  {
   "cell_type": "code",
   "execution_count": null,
   "metadata": {},
   "outputs": [],
   "source": [
    "def compute_rank_of_name_list(rank_of_all_names_df, name_list):\n",
    "    \"\"\"\n",
    "    Return a Series with Name as index and Rank as value.\n",
    "    If name in name_list is not in rank_of_all_names_df, set rank to 0\n",
    "    \"\"\"\n",
    "    missing_names_list = []\n",
    "    clean_name_list\n",
    "    rank_of_all_names_df.loc[clean_name_list,'Rank']"
   ]
  },
  {
   "cell_type": "markdown",
   "metadata": {},
   "source": [
    "In order to plot names over time, need a dataframe with\n",
    "\n",
    "Name   Year_Range_1 Year_Range_2 Year_Range_3 ...\n",
    "\n",
    "By having Year_Range_1 you could rank, for example, for a decade. A single year of course would be a range of 1.\n",
    "\n",
    "When a range is passed in, could add a boolean variable, accumulate_over_step_size, to indicate to accumulate the name occurrences over the years in the step size. Default to True. So range(1900, 2000,10) would accumulate over decades by default, otherwise it would it would take yearly samples every 10 years.\n"
   ]
  },
  {
   "cell_type": "code",
   "execution_count": 547,
   "metadata": {},
   "outputs": [
    {
     "name": "stdout",
     "output_type": "stream",
     "text": [
      "rr.start=1900  rr.stop=2000  rr.step=10\n"
     ]
    }
   ],
   "source": [
    "rr = range(1900, 2000, 10)\n",
    "print(f'{rr.start=}  {rr.stop=}  {rr.step=}')"
   ]
  },
  {
   "cell_type": "markdown",
   "metadata": {},
   "source": [
    "Names can come and go during different year ranges. When they disappear, the rank is set to NaN\n",
    "\n",
    "By using merge method with ,how='outer',indicator=True, we can identify names that continue from year range to year range as well as those the appear or disappear.\n",
    "\n",
    "Besides the years, still need to be able to select the group you are interested in so the filters for states and sexes needs to be there."
   ]
  },
  {
   "cell_type": "code",
   "execution_count": 3,
   "metadata": {},
   "outputs": [],
   "source": [
    "def compute_for_year_ranges(df,year_range,states='All', sexes = 'All'):\n",
    "    \"\"\"\n",
    "    All the names with the same count will get the same rank. There are many names that have same count.\n",
    "    df is the names DataFrame that has columns \n",
    "    ['State', 'Sex', 'Year', 'Name', 'NumOccurrences'], Year and NumOccurrences are int32\n",
    "\n",
    "    year_range must be a range object \n",
    "    \"\"\"\n",
    "    # name_rank_year_ranges_df has index of all names. Columns = [Rank_<Year_range_1>,Rank_<Year_range_2>, Rank_<Year_range_3>, ...]\n",
    "    name_rank_year_ranges_df = pd.DataFrame()   # Empty df to hold accumulated ranks\n",
    "\n",
    "    if type(states) == str:\n",
    "        if states == 'All':\n",
    "            states = df['State'].unique()  # All the states in the input DataFrame\n",
    "        else:\n",
    "            states = [states] # Make individual state name a list\n",
    "\n",
    "    if type(sexes) == str:\n",
    "        if sexes == 'All':\n",
    "            sexes = ['M','F']  # Both sexes\n",
    "        else:\n",
    "            sexes = [sexes] # Make individual sex a list\n",
    "\n",
    "    # TODO: if year_range == 'All' then set range(1900,2020)\n",
    "\n",
    "    for yr in year_range:\n",
    "        # Each value of yr will be the start year of the sub_year_range.\n",
    "        # yr+yr.step will be the stop year of the sub_year_range.\n",
    "        # sub_year_range will have a step size of 1\n",
    "        sub_year_range = range(yr,yr+year_range.step,1)\n",
    "\n",
    "        # Find number of occurrences for a given name\n",
    "        name_occurrences_df = compute_name_occurences (df,states, sexes, sub_year_range)\n",
    "        count_num_occ = name_occurrences_df.groupby('NumOccurrences').count().sort_values('NumOccurrences',ascending=False).reset_index()\n",
    "\n",
    "        # Compute rank for a given NumOccurrences. Then match name to number of occurrences\n",
    "        # It makes sense to iterate using iterrows since the current_rank keeps accumulating\n",
    "        # ['NumOccurrences','NumNames','Rank']\n",
    "        # NumNames is the number of Names that have number of occurrences equal to NumOccurrences\n",
    "        all_ranks_list = []\n",
    "        current_rank = 1\n",
    "        for idx, r in count_num_occ.iterrows():\n",
    "            if idx != 0:\n",
    "                current_rank += count_num_occ.loc[idx-1,'Name']\n",
    "\n",
    "            all_ranks_list.append([r['NumOccurrences'], r['Name'],current_rank])\n",
    "        all_ranks_df = pd.DataFrame(all_ranks_list,columns=['NumOccurrences','NumNames',f'{yr}'])\n",
    "\n",
    "        # merge performs a database \n",
    "        # This join does the same thing:\n",
    "        #   nameRank_df = all_df.join(all_ranks_df.set_index('NumOccurrences'), on='NumOccurrences', how='inner')\n",
    "        # Set Name as the index to make it easier to get the rank using .loc\n",
    "        # nameRank_df has index of all the names. Columns = [NumOccurrences,\tNumNames,\tRank]\n",
    "        nameRank_df = name_occurrences_df.merge(all_ranks_df, on='NumOccurrences',how='inner').set_index('Name')\n",
    "        # Get just the Rank and merge it with name_rank_year_ranges_df\n",
    "        merged_e_df = name_rank_year_ranges_df.merge(nameRank_df[[f'{yr}']],left_index=True, right_index=True,how='outer')\n",
    "        # merged_e_df.fillna(value=0, inplace=True)\n",
    "        # Don't replace NaN with 0. Plotly handles nan, by just skipping those values which is what we want.\n",
    "        name_rank_year_ranges_df = merged_e_df\n",
    "        \n",
    "\n",
    "    return name_rank_year_ranges_df\n",
    "    \n",
    "    \n"
   ]
  },
  {
   "cell_type": "code",
   "execution_count": 8,
   "metadata": {},
   "outputs": [],
   "source": [
    "result_df = compute_for_year_ranges(names_df,range(1910,2020,5))"
   ]
  },
  {
   "cell_type": "code",
   "execution_count": 74,
   "metadata": {},
   "outputs": [
    {
     "data": {
      "text/html": [
       "<div>\n",
       "<style scoped>\n",
       "    .dataframe tbody tr th:only-of-type {\n",
       "        vertical-align: middle;\n",
       "    }\n",
       "\n",
       "    .dataframe tbody tr th {\n",
       "        vertical-align: top;\n",
       "    }\n",
       "\n",
       "    .dataframe thead th {\n",
       "        text-align: right;\n",
       "    }\n",
       "</style>\n",
       "<table border=\"1\" class=\"dataframe\">\n",
       "  <thead>\n",
       "    <tr style=\"text-align: right;\">\n",
       "      <th></th>\n",
       "      <th>1910</th>\n",
       "      <th>1912</th>\n",
       "      <th>1914</th>\n",
       "      <th>1916</th>\n",
       "      <th>1918</th>\n",
       "    </tr>\n",
       "    <tr>\n",
       "      <th>Name</th>\n",
       "      <th></th>\n",
       "      <th></th>\n",
       "      <th></th>\n",
       "      <th></th>\n",
       "      <th></th>\n",
       "    </tr>\n",
       "  </thead>\n",
       "  <tbody>\n",
       "    <tr>\n",
       "      <th>Aaron</th>\n",
       "      <td>430.0</td>\n",
       "      <td>299.0</td>\n",
       "      <td>291.0</td>\n",
       "      <td>297.0</td>\n",
       "      <td>289.0</td>\n",
       "    </tr>\n",
       "    <tr>\n",
       "      <th>Abbie</th>\n",
       "      <td>507.0</td>\n",
       "      <td>465.0</td>\n",
       "      <td>779.0</td>\n",
       "      <td>499.0</td>\n",
       "      <td>633.0</td>\n",
       "    </tr>\n",
       "    <tr>\n",
       "      <th>Abe</th>\n",
       "      <td>0.0</td>\n",
       "      <td>579.0</td>\n",
       "      <td>578.0</td>\n",
       "      <td>569.0</td>\n",
       "      <td>944.0</td>\n",
       "    </tr>\n",
       "    <tr>\n",
       "      <th>Abner</th>\n",
       "      <td>0.0</td>\n",
       "      <td>0.0</td>\n",
       "      <td>0.0</td>\n",
       "      <td>968.0</td>\n",
       "      <td>1095.0</td>\n",
       "    </tr>\n",
       "    <tr>\n",
       "      <th>Abraham</th>\n",
       "      <td>559.0</td>\n",
       "      <td>339.0</td>\n",
       "      <td>454.0</td>\n",
       "      <td>523.0</td>\n",
       "      <td>509.0</td>\n",
       "    </tr>\n",
       "    <tr>\n",
       "      <th>Acie</th>\n",
       "      <td>0.0</td>\n",
       "      <td>0.0</td>\n",
       "      <td>0.0</td>\n",
       "      <td>0.0</td>\n",
       "      <td>771.0</td>\n",
       "    </tr>\n",
       "    <tr>\n",
       "      <th>Ada</th>\n",
       "      <td>111.0</td>\n",
       "      <td>122.0</td>\n",
       "      <td>139.0</td>\n",
       "      <td>163.0</td>\n",
       "      <td>133.0</td>\n",
       "    </tr>\n",
       "    <tr>\n",
       "      <th>Adam</th>\n",
       "      <td>529.0</td>\n",
       "      <td>708.0</td>\n",
       "      <td>0.0</td>\n",
       "      <td>811.0</td>\n",
       "      <td>1095.0</td>\n",
       "    </tr>\n",
       "    <tr>\n",
       "      <th>Addie</th>\n",
       "      <td>113.0</td>\n",
       "      <td>141.0</td>\n",
       "      <td>134.0</td>\n",
       "      <td>140.0</td>\n",
       "      <td>178.0</td>\n",
       "    </tr>\n",
       "    <tr>\n",
       "      <th>Adelaide</th>\n",
       "      <td>603.0</td>\n",
       "      <td>621.0</td>\n",
       "      <td>823.0</td>\n",
       "      <td>0.0</td>\n",
       "      <td>0.0</td>\n",
       "    </tr>\n",
       "  </tbody>\n",
       "</table>\n",
       "</div>"
      ],
      "text/plain": [
       "           1910   1912   1914   1916    1918\n",
       "Name                                        \n",
       "Aaron     430.0  299.0  291.0  297.0   289.0\n",
       "Abbie     507.0  465.0  779.0  499.0   633.0\n",
       "Abe         0.0  579.0  578.0  569.0   944.0\n",
       "Abner       0.0    0.0    0.0  968.0  1095.0\n",
       "Abraham   559.0  339.0  454.0  523.0   509.0\n",
       "Acie        0.0    0.0    0.0    0.0   771.0\n",
       "Ada       111.0  122.0  139.0  163.0   133.0\n",
       "Adam      529.0  708.0    0.0  811.0  1095.0\n",
       "Addie     113.0  141.0  134.0  140.0   178.0\n",
       "Adelaide  603.0  621.0  823.0    0.0     0.0"
      ]
     },
     "execution_count": 74,
     "metadata": {},
     "output_type": "execute_result"
    }
   ],
   "source": [
    "result_df.head(10)"
   ]
  },
  {
   "cell_type": "code",
   "execution_count": 665,
   "metadata": {},
   "outputs": [
    {
     "data": {
      "text/html": [
       "<div>\n",
       "<style scoped>\n",
       "    .dataframe tbody tr th:only-of-type {\n",
       "        vertical-align: middle;\n",
       "    }\n",
       "\n",
       "    .dataframe tbody tr th {\n",
       "        vertical-align: top;\n",
       "    }\n",
       "\n",
       "    .dataframe thead th {\n",
       "        text-align: right;\n",
       "    }\n",
       "</style>\n",
       "<table border=\"1\" class=\"dataframe\">\n",
       "  <thead>\n",
       "    <tr style=\"text-align: right;\">\n",
       "      <th></th>\n",
       "      <th>1910</th>\n",
       "      <th>1912</th>\n",
       "      <th>1914</th>\n",
       "      <th>1916</th>\n",
       "      <th>1918</th>\n",
       "    </tr>\n",
       "    <tr>\n",
       "      <th>Name</th>\n",
       "      <th></th>\n",
       "      <th></th>\n",
       "      <th></th>\n",
       "      <th></th>\n",
       "      <th></th>\n",
       "    </tr>\n",
       "  </thead>\n",
       "  <tbody>\n",
       "    <tr>\n",
       "      <th>Annie</th>\n",
       "      <td>4.0</td>\n",
       "      <td>6.0</td>\n",
       "      <td>6.0</td>\n",
       "      <td>7.0</td>\n",
       "      <td>7.0</td>\n",
       "    </tr>\n",
       "    <tr>\n",
       "      <th>George</th>\n",
       "      <td>10.0</td>\n",
       "      <td>8.0</td>\n",
       "      <td>8.0</td>\n",
       "      <td>8.0</td>\n",
       "      <td>8.0</td>\n",
       "    </tr>\n",
       "    <tr>\n",
       "      <th>James</th>\n",
       "      <td>3.0</td>\n",
       "      <td>2.0</td>\n",
       "      <td>2.0</td>\n",
       "      <td>2.0</td>\n",
       "      <td>2.0</td>\n",
       "    </tr>\n",
       "    <tr>\n",
       "      <th>John</th>\n",
       "      <td>5.0</td>\n",
       "      <td>3.0</td>\n",
       "      <td>3.0</td>\n",
       "      <td>4.0</td>\n",
       "      <td>4.0</td>\n",
       "    </tr>\n",
       "    <tr>\n",
       "      <th>Mary</th>\n",
       "      <td>1.0</td>\n",
       "      <td>1.0</td>\n",
       "      <td>1.0</td>\n",
       "      <td>1.0</td>\n",
       "      <td>1.0</td>\n",
       "    </tr>\n",
       "    <tr>\n",
       "      <th>Mattie</th>\n",
       "      <td>8.0</td>\n",
       "      <td>10.0</td>\n",
       "      <td>13.0</td>\n",
       "      <td>18.0</td>\n",
       "      <td>18.0</td>\n",
       "    </tr>\n",
       "    <tr>\n",
       "      <th>Robert</th>\n",
       "      <td>7.0</td>\n",
       "      <td>7.0</td>\n",
       "      <td>7.0</td>\n",
       "      <td>6.0</td>\n",
       "      <td>6.0</td>\n",
       "    </tr>\n",
       "    <tr>\n",
       "      <th>Ruby</th>\n",
       "      <td>9.0</td>\n",
       "      <td>9.0</td>\n",
       "      <td>9.0</td>\n",
       "      <td>9.0</td>\n",
       "      <td>10.0</td>\n",
       "    </tr>\n",
       "    <tr>\n",
       "      <th>William</th>\n",
       "      <td>6.0</td>\n",
       "      <td>5.0</td>\n",
       "      <td>5.0</td>\n",
       "      <td>3.0</td>\n",
       "      <td>5.0</td>\n",
       "    </tr>\n",
       "    <tr>\n",
       "      <th>Willie</th>\n",
       "      <td>2.0</td>\n",
       "      <td>4.0</td>\n",
       "      <td>4.0</td>\n",
       "      <td>5.0</td>\n",
       "      <td>3.0</td>\n",
       "    </tr>\n",
       "  </tbody>\n",
       "</table>\n",
       "</div>"
      ],
      "text/plain": [
       "         1910  1912  1914  1916  1918\n",
       "Name                                 \n",
       "Annie     4.0   6.0   6.0   7.0   7.0\n",
       "George   10.0   8.0   8.0   8.0   8.0\n",
       "James     3.0   2.0   2.0   2.0   2.0\n",
       "John      5.0   3.0   3.0   4.0   4.0\n",
       "Mary      1.0   1.0   1.0   1.0   1.0\n",
       "Mattie    8.0  10.0  13.0  18.0  18.0\n",
       "Robert    7.0   7.0   7.0   6.0   6.0\n",
       "Ruby      9.0   9.0   9.0   9.0  10.0\n",
       "William   6.0   5.0   5.0   3.0   5.0\n",
       "Willie    2.0   4.0   4.0   5.0   3.0"
      ]
     },
     "execution_count": 665,
     "metadata": {},
     "output_type": "execute_result"
    }
   ],
   "source": [
    "# Top 10 names in 1910\n",
    "result_df[result_df['1910'].isin(range(1,11))]"
   ]
  },
  {
   "cell_type": "code",
   "execution_count": 650,
   "metadata": {},
   "outputs": [],
   "source": [
    "tr = result_df.loc[['John','William','Mary']].transpose().reset_index()"
   ]
  },
  {
   "cell_type": "code",
   "execution_count": 652,
   "metadata": {},
   "outputs": [
    {
     "data": {
      "text/html": [
       "<div>\n",
       "<style scoped>\n",
       "    .dataframe tbody tr th:only-of-type {\n",
       "        vertical-align: middle;\n",
       "    }\n",
       "\n",
       "    .dataframe tbody tr th {\n",
       "        vertical-align: top;\n",
       "    }\n",
       "\n",
       "    .dataframe thead th {\n",
       "        text-align: right;\n",
       "    }\n",
       "</style>\n",
       "<table border=\"1\" class=\"dataframe\">\n",
       "  <thead>\n",
       "    <tr style=\"text-align: right;\">\n",
       "      <th>Name</th>\n",
       "      <th>Year</th>\n",
       "      <th>John</th>\n",
       "      <th>William</th>\n",
       "      <th>Mary</th>\n",
       "    </tr>\n",
       "  </thead>\n",
       "  <tbody>\n",
       "    <tr>\n",
       "      <th>0</th>\n",
       "      <td>1910</td>\n",
       "      <td>5.0</td>\n",
       "      <td>6.0</td>\n",
       "      <td>1.0</td>\n",
       "    </tr>\n",
       "    <tr>\n",
       "      <th>1</th>\n",
       "      <td>1912</td>\n",
       "      <td>3.0</td>\n",
       "      <td>5.0</td>\n",
       "      <td>1.0</td>\n",
       "    </tr>\n",
       "    <tr>\n",
       "      <th>2</th>\n",
       "      <td>1914</td>\n",
       "      <td>3.0</td>\n",
       "      <td>5.0</td>\n",
       "      <td>1.0</td>\n",
       "    </tr>\n",
       "    <tr>\n",
       "      <th>3</th>\n",
       "      <td>1916</td>\n",
       "      <td>4.0</td>\n",
       "      <td>3.0</td>\n",
       "      <td>1.0</td>\n",
       "    </tr>\n",
       "    <tr>\n",
       "      <th>4</th>\n",
       "      <td>1918</td>\n",
       "      <td>4.0</td>\n",
       "      <td>5.0</td>\n",
       "      <td>1.0</td>\n",
       "    </tr>\n",
       "  </tbody>\n",
       "</table>\n",
       "</div>"
      ],
      "text/plain": [
       "Name  Year  John  William  Mary\n",
       "0     1910   5.0      6.0   1.0\n",
       "1     1912   3.0      5.0   1.0\n",
       "2     1914   3.0      5.0   1.0\n",
       "3     1916   4.0      3.0   1.0\n",
       "4     1918   4.0      5.0   1.0"
      ]
     },
     "execution_count": 652,
     "metadata": {},
     "output_type": "execute_result"
    }
   ],
   "source": [
    "tr.rename(columns={'index':'Year'})"
   ]
  },
  {
   "cell_type": "code",
   "execution_count": 8,
   "metadata": {},
   "outputs": [],
   "source": [
    "john_series = result_df.loc['John']"
   ]
  },
  {
   "cell_type": "code",
   "execution_count": 658,
   "metadata": {},
   "outputs": [
    {
     "data": {
      "text/plain": [
       "1910    5.0\n",
       "1912    3.0\n",
       "1914    3.0\n",
       "1916    4.0\n",
       "1918    4.0\n",
       "Name: John, dtype: float64"
      ]
     },
     "execution_count": 658,
     "metadata": {},
     "output_type": "execute_result"
    }
   ],
   "source": [
    "john_series"
   ]
  },
  {
   "cell_type": "code",
   "execution_count": 659,
   "metadata": {},
   "outputs": [
    {
     "data": {
      "text/plain": [
       "'John'"
      ]
     },
     "execution_count": 659,
     "metadata": {},
     "output_type": "execute_result"
    }
   ],
   "source": [
    "john_series.name"
   ]
  },
  {
   "cell_type": "code",
   "execution_count": 9,
   "metadata": {},
   "outputs": [],
   "source": [
    "william_series = result_df.loc['William']"
   ]
  },
  {
   "cell_type": "code",
   "execution_count": 10,
   "metadata": {},
   "outputs": [
    {
     "data": {
      "text/plain": [
       "<Figure size 432x288 with 0 Axes>"
      ]
     },
     "metadata": {},
     "output_type": "display_data"
    },
    {
     "data": {
      "image/png": "[encoded data removed]",
      "text/plain": [
       "<Figure size 720x720 with 1 Axes>"
      ]
     },
     "metadata": {
      "needs_background": "light"
     },
     "output_type": "display_data"
    }
   ],
   "source": [
    "fig = plt.figure()\n",
    "plt.figure(figsize=(10.0,10.0))\n",
    "plt.plot(john_series,linewidth=3, label=john_series.name)\n",
    "plt.plot(william_series,linewidth=3, label=william_series.name)\n",
    "plt.legend()\n",
    "plt.ylim(10,1)\n",
    "plt.show()\n"
   ]
  },
  {
   "cell_type": "code",
   "execution_count": 11,
   "metadata": {},
   "outputs": [
    {
     "data": {
      "text/plain": [
       "<Figure size 432x288 with 0 Axes>"
      ]
     },
     "metadata": {},
     "output_type": "display_data"
    },
    {
     "data": {
      "image/png": "[encoded data removed]",
      "text/plain": [
       "<Figure size 720x720 with 1 Axes>"
      ]
     },
     "metadata": {
      "needs_background": "light"
     },
     "output_type": "display_data"
    }
   ],
   "source": [
    "name_list = ['John','Robert']\n",
    "fig = plt.figure()\n",
    "plt.figure(figsize=(10.0,10.0))\n",
    "selected_names_df = result_df.loc[name_list]\n",
    "for i,rec in selected_names_df.iterrows():\n",
    "    plt.plot(rec,linewidth=3, label=rec.name)\n",
    "\n",
    "plt.legend()\n",
    "plt.ylim(25,.9)\n",
    "plt.show()"
   ]
  },
  {
   "cell_type": "code",
   "execution_count": 682,
   "metadata": {},
   "outputs": [
    {
     "data": {
      "text/plain": [
       "<Figure size 432x288 with 0 Axes>"
      ]
     },
     "metadata": {},
     "output_type": "display_data"
    },
    {
     "data": {
      "image/png": "[encoded data removed]",
      "text/plain": [
       "<Figure size 720x720 with 1 Axes>"
      ]
     },
     "metadata": {
      "needs_background": "light"
     },
     "output_type": "display_data"
    }
   ],
   "source": [
    "top10names = result_df[result_df['1910'].isin(range(1,11))]\n",
    "fig = plt.figure()\n",
    "plt.figure(figsize=(10.0,10.0))\n",
    "\n",
    "for i,rec in top10names.iterrows():\n",
    "    plt.plot(rec,linewidth=3, label=rec.name)\n",
    "\n",
    "plt.legend()\n",
    "plt.ylim(25,.9)\n",
    "plt.show()\n",
    "    "
   ]
  },
  {
   "cell_type": "code",
   "execution_count": 146,
   "metadata": {},
   "outputs": [],
   "source": [
    "# Names with the greatest variance in rank over years\n",
    "# Exclude any names that dissappear, i.e. rank = NaN\n",
    "var_result_series = result_df[(result_df>=0).all(axis=1)].var(axis=1)\n",
    "# Include any names that dissappear, i.e. rank = NaN\n",
    "var_result_series_with_nan = result_df.var(axis=1)"
   ]
  },
  {
   "cell_type": "code",
   "execution_count": 156,
   "metadata": {},
   "outputs": [],
   "source": [
    "var_result_top10_idx = var_result_series.sort_values(ascending=False).head(10).index\n"
   ]
  },
  {
   "cell_type": "code",
   "execution_count": 157,
   "metadata": {},
   "outputs": [
    {
     "data": {
      "text/plain": [
       "['Gordon',\n",
       " 'Marion',\n",
       " 'Ben',\n",
       " 'Dorothy',\n",
       " 'Mack',\n",
       " 'Clarence',\n",
       " 'Leonard',\n",
       " 'Howard',\n",
       " 'Susan',\n",
       " 'Joshua']"
      ]
     },
     "execution_count": 157,
     "metadata": {},
     "output_type": "execute_result"
    }
   ],
   "source": [
    "var_result_top10_idx.to_list()"
   ]
  },
  {
   "cell_type": "code",
   "execution_count": 100,
   "metadata": {},
   "outputs": [
    {
     "data": {
      "text/plain": [
       "['Freya',\n",
       " 'Abel',\n",
       " 'Kannon',\n",
       " 'Remi',\n",
       " 'Kashton',\n",
       " 'Amina',\n",
       " 'Declan',\n",
       " 'Ryker',\n",
       " 'Brynlee',\n",
       " 'Toccara']"
      ]
     },
     "execution_count": 100,
     "metadata": {},
     "output_type": "execute_result"
    }
   ],
   "source": [
    "v_0_names = (var_result_series_with_nan.sort_values(ascending=False).head(10).index).to_list()\n",
    "v_0_names"
   ]
  },
  {
   "cell_type": "code",
   "execution_count": 735,
   "metadata": {},
   "outputs": [
    {
     "data": {
      "text/html": [
       "<div>\n",
       "<style scoped>\n",
       "    .dataframe tbody tr th:only-of-type {\n",
       "        vertical-align: middle;\n",
       "    }\n",
       "\n",
       "    .dataframe tbody tr th {\n",
       "        vertical-align: top;\n",
       "    }\n",
       "\n",
       "    .dataframe thead th {\n",
       "        text-align: right;\n",
       "    }\n",
       "</style>\n",
       "<table border=\"1\" class=\"dataframe\">\n",
       "  <thead>\n",
       "    <tr style=\"text-align: right;\">\n",
       "      <th></th>\n",
       "      <th>1910</th>\n",
       "      <th>1912</th>\n",
       "      <th>1914</th>\n",
       "      <th>1916</th>\n",
       "      <th>1918</th>\n",
       "    </tr>\n",
       "    <tr>\n",
       "      <th>Name</th>\n",
       "      <th></th>\n",
       "      <th></th>\n",
       "      <th></th>\n",
       "      <th></th>\n",
       "      <th></th>\n",
       "    </tr>\n",
       "  </thead>\n",
       "  <tbody>\n",
       "    <tr>\n",
       "      <th>Corinne</th>\n",
       "      <td>559.0</td>\n",
       "      <td>513.0</td>\n",
       "      <td>578.0</td>\n",
       "      <td>619.0</td>\n",
       "      <td>1095.0</td>\n",
       "    </tr>\n",
       "    <tr>\n",
       "      <th>Maud</th>\n",
       "      <td>395.0</td>\n",
       "      <td>579.0</td>\n",
       "      <td>798.0</td>\n",
       "      <td>646.0</td>\n",
       "      <td>1016.0</td>\n",
       "    </tr>\n",
       "    <tr>\n",
       "      <th>Tressie</th>\n",
       "      <td>467.0</td>\n",
       "      <td>479.0</td>\n",
       "      <td>868.0</td>\n",
       "      <td>919.0</td>\n",
       "      <td>542.0</td>\n",
       "    </tr>\n",
       "    <tr>\n",
       "      <th>Nona</th>\n",
       "      <td>483.0</td>\n",
       "      <td>399.0</td>\n",
       "      <td>662.0</td>\n",
       "      <td>664.0</td>\n",
       "      <td>944.0</td>\n",
       "    </tr>\n",
       "    <tr>\n",
       "      <th>Woodrow</th>\n",
       "      <td>529.0</td>\n",
       "      <td>47.0</td>\n",
       "      <td>88.0</td>\n",
       "      <td>77.0</td>\n",
       "      <td>70.0</td>\n",
       "    </tr>\n",
       "    <tr>\n",
       "      <th>Rosia</th>\n",
       "      <td>317.0</td>\n",
       "      <td>496.0</td>\n",
       "      <td>478.0</td>\n",
       "      <td>871.0</td>\n",
       "      <td>606.0</td>\n",
       "    </tr>\n",
       "    <tr>\n",
       "      <th>Cleve</th>\n",
       "      <td>529.0</td>\n",
       "      <td>708.0</td>\n",
       "      <td>578.0</td>\n",
       "      <td>871.0</td>\n",
       "      <td>1016.0</td>\n",
       "    </tr>\n",
       "    <tr>\n",
       "      <th>Dolly</th>\n",
       "      <td>559.0</td>\n",
       "      <td>479.0</td>\n",
       "      <td>949.0</td>\n",
       "      <td>840.0</td>\n",
       "      <td>579.0</td>\n",
       "    </tr>\n",
       "    <tr>\n",
       "      <th>Lura</th>\n",
       "      <td>412.0</td>\n",
       "      <td>449.0</td>\n",
       "      <td>798.0</td>\n",
       "      <td>499.0</td>\n",
       "      <td>824.0</td>\n",
       "    </tr>\n",
       "    <tr>\n",
       "      <th>Bud</th>\n",
       "      <td>336.0</td>\n",
       "      <td>773.0</td>\n",
       "      <td>779.0</td>\n",
       "      <td>552.0</td>\n",
       "      <td>771.0</td>\n",
       "    </tr>\n",
       "    <tr>\n",
       "      <th>Ellen</th>\n",
       "      <td>141.0</td>\n",
       "      <td>167.0</td>\n",
       "      <td>191.0</td>\n",
       "      <td>198.0</td>\n",
       "      <td>214.0</td>\n",
       "    </tr>\n",
       "  </tbody>\n",
       "</table>\n",
       "</div>"
      ],
      "text/plain": [
       "          1910   1912   1914   1916    1918\n",
       "Name                                       \n",
       "Corinne  559.0  513.0  578.0  619.0  1095.0\n",
       "Maud     395.0  579.0  798.0  646.0  1016.0\n",
       "Tressie  467.0  479.0  868.0  919.0   542.0\n",
       "Nona     483.0  399.0  662.0  664.0   944.0\n",
       "Woodrow  529.0   47.0   88.0   77.0    70.0\n",
       "Rosia    317.0  496.0  478.0  871.0   606.0\n",
       "Cleve    529.0  708.0  578.0  871.0  1016.0\n",
       "Dolly    559.0  479.0  949.0  840.0   579.0\n",
       "Lura     412.0  449.0  798.0  499.0   824.0\n",
       "Bud      336.0  773.0  779.0  552.0   771.0\n",
       "Ellen    141.0  167.0  191.0  198.0   214.0"
      ]
     },
     "execution_count": 735,
     "metadata": {},
     "output_type": "execute_result"
    }
   ],
   "source": [
    "# Add Ellen, Woodrow Wilson's wife's name\n",
    "top_10_var_df = pd.concat([result_df.loc[var_result_top10_idx,:],result_df.loc[['Ellen'],:]],axis=0)\n",
    "top_10_var_df"
   ]
  },
  {
   "cell_type": "code",
   "execution_count": 736,
   "metadata": {},
   "outputs": [
    {
     "data": {
      "text/plain": [
       "<Figure size 432x288 with 0 Axes>"
      ]
     },
     "metadata": {},
     "output_type": "display_data"
    },
    {
     "data": {
      "image/png": "[encoded data removed]",
      "text/plain": [
       "<Figure size 720x720 with 1 Axes>"
      ]
     },
     "metadata": {
      "needs_background": "light"
     },
     "output_type": "display_data"
    }
   ],
   "source": [
    "# top_10_var_df.max().max() finds max value in entire DataFrame\n",
    "fig = plt.figure()\n",
    "plt.figure(figsize=(10.0,10.0))\n",
    "\n",
    "for i,rec in top_10_var_df.iterrows():\n",
    "    plt.plot(rec,linewidth=3, label=rec.name)\n",
    "\n",
    "plt.legend()\n",
    "plt.ylim(top_10_var_df.max().max() + 1,.9)\n",
    "plt.show()"
   ]
  },
  {
   "cell_type": "markdown",
   "metadata": {},
   "source": [
    "Interesting to see that the name Woodrow greatly increased in popularity when he became president in 1913 https://en.wikipedia.org/wiki/Woodrow_Wilson\n",
    "\n",
    "Wilson's wife Ellen's name did not change much in popularity \n",
    "\n",
    "A fun plot would be to see how the names of the presidents and first ladies corresponds with popularity. Oldest name data is only back to 1910, but still check older names to see if they have lingering popularity."
   ]
  },
  {
   "cell_type": "code",
   "execution_count": 36,
   "metadata": {},
   "outputs": [],
   "source": [
    "import plotly.express as px\n",
    "import plotly.graph_objects as go"
   ]
  },
  {
   "cell_type": "code",
   "execution_count": 90,
   "metadata": {},
   "outputs": [
    {
     "data": {
      "text/html": [
       "<div>\n",
       "<style scoped>\n",
       "    .dataframe tbody tr th:only-of-type {\n",
       "        vertical-align: middle;\n",
       "    }\n",
       "\n",
       "    .dataframe tbody tr th {\n",
       "        vertical-align: top;\n",
       "    }\n",
       "\n",
       "    .dataframe thead th {\n",
       "        text-align: right;\n",
       "    }\n",
       "</style>\n",
       "<table border=\"1\" class=\"dataframe\">\n",
       "  <thead>\n",
       "    <tr style=\"text-align: right;\">\n",
       "      <th></th>\n",
       "      <th>1910</th>\n",
       "      <th>1912</th>\n",
       "      <th>1914</th>\n",
       "      <th>1916</th>\n",
       "      <th>1918</th>\n",
       "    </tr>\n",
       "    <tr>\n",
       "      <th>Name</th>\n",
       "      <th></th>\n",
       "      <th></th>\n",
       "      <th></th>\n",
       "      <th></th>\n",
       "      <th></th>\n",
       "    </tr>\n",
       "  </thead>\n",
       "  <tbody>\n",
       "    <tr>\n",
       "      <th>John</th>\n",
       "      <td>5.0</td>\n",
       "      <td>3.0</td>\n",
       "      <td>3.0</td>\n",
       "      <td>4.0</td>\n",
       "      <td>4.0</td>\n",
       "    </tr>\n",
       "    <tr>\n",
       "      <th>Robert</th>\n",
       "      <td>7.0</td>\n",
       "      <td>7.0</td>\n",
       "      <td>7.0</td>\n",
       "      <td>6.0</td>\n",
       "      <td>6.0</td>\n",
       "    </tr>\n",
       "    <tr>\n",
       "      <th>William</th>\n",
       "      <td>6.0</td>\n",
       "      <td>5.0</td>\n",
       "      <td>5.0</td>\n",
       "      <td>3.0</td>\n",
       "      <td>5.0</td>\n",
       "    </tr>\n",
       "  </tbody>\n",
       "</table>\n",
       "</div>"
      ],
      "text/plain": [
       "         1910  1912  1914  1916  1918\n",
       "Name                                 \n",
       "John      5.0   3.0   3.0   4.0   4.0\n",
       "Robert    7.0   7.0   7.0   6.0   6.0\n",
       "William   6.0   5.0   5.0   3.0   5.0"
      ]
     },
     "execution_count": 90,
     "metadata": {},
     "output_type": "execute_result"
    }
   ],
   "source": [
    "name_list = ['John','Robert','William']\n",
    "selected_names_df = result_df.loc[name_list]\n",
    "selected_names_df"
   ]
  },
  {
   "cell_type": "code",
   "execution_count": 91,
   "metadata": {},
   "outputs": [
    {
     "data": {
      "text/html": [
       "<div>\n",
       "<style scoped>\n",
       "    .dataframe tbody tr th:only-of-type {\n",
       "        vertical-align: middle;\n",
       "    }\n",
       "\n",
       "    .dataframe tbody tr th {\n",
       "        vertical-align: top;\n",
       "    }\n",
       "\n",
       "    .dataframe thead th {\n",
       "        text-align: right;\n",
       "    }\n",
       "</style>\n",
       "<table border=\"1\" class=\"dataframe\">\n",
       "  <thead>\n",
       "    <tr style=\"text-align: right;\">\n",
       "      <th>Name</th>\n",
       "      <th>John</th>\n",
       "      <th>Robert</th>\n",
       "      <th>William</th>\n",
       "    </tr>\n",
       "  </thead>\n",
       "  <tbody>\n",
       "    <tr>\n",
       "      <th>1910</th>\n",
       "      <td>5.0</td>\n",
       "      <td>7.0</td>\n",
       "      <td>6.0</td>\n",
       "    </tr>\n",
       "    <tr>\n",
       "      <th>1912</th>\n",
       "      <td>3.0</td>\n",
       "      <td>7.0</td>\n",
       "      <td>5.0</td>\n",
       "    </tr>\n",
       "    <tr>\n",
       "      <th>1914</th>\n",
       "      <td>3.0</td>\n",
       "      <td>7.0</td>\n",
       "      <td>5.0</td>\n",
       "    </tr>\n",
       "    <tr>\n",
       "      <th>1916</th>\n",
       "      <td>4.0</td>\n",
       "      <td>6.0</td>\n",
       "      <td>3.0</td>\n",
       "    </tr>\n",
       "    <tr>\n",
       "      <th>1918</th>\n",
       "      <td>4.0</td>\n",
       "      <td>6.0</td>\n",
       "      <td>5.0</td>\n",
       "    </tr>\n",
       "  </tbody>\n",
       "</table>\n",
       "</div>"
      ],
      "text/plain": [
       "Name  John  Robert  William\n",
       "1910   5.0     7.0      6.0\n",
       "1912   3.0     7.0      5.0\n",
       "1914   3.0     7.0      5.0\n",
       "1916   4.0     6.0      3.0\n",
       "1918   4.0     6.0      5.0"
      ]
     },
     "execution_count": 91,
     "metadata": {},
     "output_type": "execute_result"
    }
   ],
   "source": [
    "selected_names_df.T"
   ]
  },
  {
   "cell_type": "code",
   "execution_count": 37,
   "metadata": {},
   "outputs": [
    {
     "data": {
      "application/vnd.plotly.v1+json": {
       "config": {
        "plotlyServerURL": "https://plot.ly"
       },
       "data": [
        {
         "hovertemplate": "Name=Robert<br>index=%{x}<br>value=%{y}<extra></extra>",
         "legendgroup": "Robert",
         "line": {
          "color": "#636efa",
          "dash": "solid"
         },
         "marker": {
          "symbol": "circle"
         },
         "mode": "lines+markers",
         "name": "Robert",
         "orientation": "v",
         "showlegend": true,
         "type": "scatter",
         "x": [
          "1910",
          "1915",
          "1920",
          "1925",
          "1930",
          "1935",
          "1940",
          "1945",
          "1950",
          "1955",
          "1960",
          "1965",
          "1970",
          "1975",
          "1980",
          "1985",
          "1990",
          "1995",
          "2000",
          "2005",
          "2010",
          "2015"
         ],
         "xaxis": "x",
         "y": [
          8,
          5,
          3,
          2,
          2,
          1,
          2,
          2,
          2,
          4,
          5,
          5,
          7,
          8,
          12,
          13,
          21,
          32,
          48,
          70,
          89,
          106
         ],
         "yaxis": "y"
        },
        {
         "hovertemplate": "Name=John<br>index=%{x}<br>value=%{y}<extra></extra>",
         "legendgroup": "John",
         "line": {
          "color": "#EF553B",
          "dash": "solid"
         },
         "marker": {
          "symbol": "circle"
         },
         "mode": "lines+markers",
         "name": "John",
         "orientation": "v",
         "showlegend": true,
         "type": "scatter",
         "x": [
          "1910",
          "1915",
          "1920",
          "1925",
          "1930",
          "1935",
          "1940",
          "1945",
          "1950",
          "1955",
          "1960",
          "1965",
          "1970",
          "1975",
          "1980",
          "1985",
          "1990",
          "1995",
          "2000",
          "2005",
          "2010",
          "2015"
         ],
         "xaxis": "x",
         "y": [
          2,
          2,
          2,
          3,
          4,
          4,
          3,
          3,
          3,
          5,
          3,
          3,
          6,
          7,
          11,
          15,
          16,
          20,
          20,
          28,
          37,
          40
         ],
         "yaxis": "y"
        },
        {
         "hovertemplate": "Name=Minnie<br>index=%{x}<br>value=%{y}<extra></extra>",
         "legendgroup": "Minnie",
         "line": {
          "color": "#00cc96",
          "dash": "solid"
         },
         "marker": {
          "symbol": "circle"
         },
         "mode": "lines+markers",
         "name": "Minnie",
         "orientation": "v",
         "showlegend": true,
         "type": "scatter",
         "x": [
          "1910",
          "1915",
          "1920",
          "1925",
          "1930",
          "1935",
          "1940",
          "1945",
          "1950",
          "1955",
          "1960",
          "1965",
          "1970",
          "1975",
          "1980",
          "1985",
          "1990",
          "1995",
          "2000",
          "2005",
          "2010",
          "2015"
         ],
         "xaxis": "x",
         "y": [
          98,
          128,
          162,
          204,
          234,
          279,
          319,
          409,
          544,
          769,
          1035,
          1305,
          1727,
          2514,
          3434,
          4098,
          6044,
          7026,
          8446,
          7386,
          6827,
          5511
         ],
         "yaxis": "y"
        },
        {
         "hovertemplate": "Name=Bettye<br>index=%{x}<br>value=%{y}<extra></extra>",
         "legendgroup": "Bettye",
         "line": {
          "color": "#ab63fa",
          "dash": "solid"
         },
         "marker": {
          "symbol": "circle"
         },
         "mode": "lines+markers",
         "name": "Bettye",
         "orientation": "v",
         "showlegend": true,
         "type": "scatter",
         "x": [
          "1910",
          "1915",
          "1920",
          "1925",
          "1930",
          "1935",
          "1940",
          "1945",
          "1950",
          "1955",
          "1960",
          "1965",
          "1970",
          "1975",
          "1980",
          "1985",
          "1990",
          "1995",
          "2000",
          "2005",
          "2010",
          "2015"
         ],
         "xaxis": "x",
         "y": [
          2270,
          1433,
          733,
          471,
          406,
          425,
          448,
          518,
          757,
          1248,
          2037,
          3187,
          5021,
          null,
          null,
          null,
          null,
          null,
          null,
          null,
          null,
          null
         ],
         "yaxis": "y"
        },
        {
         "hovertemplate": "Name=William<br>index=%{x}<br>value=%{y}<extra></extra>",
         "legendgroup": "William",
         "line": {
          "color": "#FFA15A",
          "dash": "solid"
         },
         "marker": {
          "symbol": "circle"
         },
         "mode": "lines+markers",
         "name": "William",
         "orientation": "v",
         "showlegend": true,
         "type": "scatter",
         "x": [
          "1910",
          "1915",
          "1920",
          "1925",
          "1930",
          "1935",
          "1940",
          "1945",
          "1950",
          "1955",
          "1960",
          "1965",
          "1970",
          "1975",
          "1980",
          "1985",
          "1990",
          "1995",
          "2000",
          "2005",
          "2010",
          "2015"
         ],
         "xaxis": "x",
         "y": [
          3,
          3,
          4,
          5,
          5,
          5,
          5,
          6,
          8,
          7,
          8,
          7,
          10,
          15,
          20,
          21,
          26,
          23,
          12,
          11,
          8,
          7
         ],
         "yaxis": "y"
        }
       ],
       "layout": {
        "legend": {
         "title": {
          "text": "Name"
         },
         "tracegroupgap": 0
        },
        "margin": {
         "t": 60
        },
        "template": {
         "data": {
          "bar": [
           {
            "error_x": {
             "color": "#2a3f5f"
            },
            "error_y": {
             "color": "#2a3f5f"
            },
            "marker": {
             "line": {
              "color": "#E5ECF6",
              "width": 0.5
             },
             "pattern": {
              "fillmode": "overlay",
              "size": 10,
              "solidity": 0.2
             }
            },
            "type": "bar"
           }
          ],
          "barpolar": [
           {
            "marker": {
             "line": {
              "color": "#E5ECF6",
              "width": 0.5
             },
             "pattern": {
              "fillmode": "overlay",
              "size": 10,
              "solidity": 0.2
             }
            },
            "type": "barpolar"
           }
          ],
          "carpet": [
           {
            "aaxis": {
             "endlinecolor": "#2a3f5f",
             "gridcolor": "white",
             "linecolor": "white",
             "minorgridcolor": "white",
             "startlinecolor": "#2a3f5f"
            },
            "baxis": {
             "endlinecolor": "#2a3f5f",
             "gridcolor": "white",
             "linecolor": "white",
             "minorgridcolor": "white",
             "startlinecolor": "#2a3f5f"
            },
            "type": "carpet"
           }
          ],
          "choropleth": [
           {
            "colorbar": {
             "outlinewidth": 0,
             "ticks": ""
            },
            "type": "choropleth"
           }
          ],
          "contour": [
           {
            "colorbar": {
             "outlinewidth": 0,
             "ticks": ""
            },
            "colorscale": [
             [
              0,
              "#0d0887"
             ],
             [
              0.1111111111111111,
              "#46039f"
             ],
             [
              0.2222222222222222,
              "#7201a8"
             ],
             [
              0.3333333333333333,
              "#9c179e"
             ],
             [
              0.4444444444444444,
              "#bd3786"
             ],
             [
              0.5555555555555556,
              "#d8576b"
             ],
             [
              0.6666666666666666,
              "#ed7953"
             ],
             [
              0.7777777777777778,
              "#fb9f3a"
             ],
             [
              0.8888888888888888,
              "#fdca26"
             ],
             [
              1,
              "#f0f921"
             ]
            ],
            "type": "contour"
           }
          ],
          "contourcarpet": [
           {
            "colorbar": {
             "outlinewidth": 0,
             "ticks": ""
            },
            "type": "contourcarpet"
           }
          ],
          "heatmap": [
           {
            "colorbar": {
             "outlinewidth": 0,
             "ticks": ""
            },
            "colorscale": [
             [
              0,
              "#0d0887"
             ],
             [
              0.1111111111111111,
              "#46039f"
             ],
             [
              0.2222222222222222,
              "#7201a8"
             ],
             [
              0.3333333333333333,
              "#9c179e"
             ],
             [
              0.4444444444444444,
              "#bd3786"
             ],
             [
              0.5555555555555556,
              "#d8576b"
             ],
             [
              0.6666666666666666,
              "#ed7953"
             ],
             [
              0.7777777777777778,
              "#fb9f3a"
             ],
             [
              0.8888888888888888,
              "#fdca26"
             ],
             [
              1,
              "#f0f921"
             ]
            ],
            "type": "heatmap"
           }
          ],
          "heatmapgl": [
           {
            "colorbar": {
             "outlinewidth": 0,
             "ticks": ""
            },
            "colorscale": [
             [
              0,
              "#0d0887"
             ],
             [
              0.1111111111111111,
              "#46039f"
             ],
             [
              0.2222222222222222,
              "#7201a8"
             ],
             [
              0.3333333333333333,
              "#9c179e"
             ],
             [
              0.4444444444444444,
              "#bd3786"
             ],
             [
              0.5555555555555556,
              "#d8576b"
             ],
             [
              0.6666666666666666,
              "#ed7953"
             ],
             [
              0.7777777777777778,
              "#fb9f3a"
             ],
             [
              0.8888888888888888,
              "#fdca26"
             ],
             [
              1,
              "#f0f921"
             ]
            ],
            "type": "heatmapgl"
           }
          ],
          "histogram": [
           {
            "marker": {
             "pattern": {
              "fillmode": "overlay",
              "size": 10,
              "solidity": 0.2
             }
            },
            "type": "histogram"
           }
          ],
          "histogram2d": [
           {
            "colorbar": {
             "outlinewidth": 0,
             "ticks": ""
            },
            "colorscale": [
             [
              0,
              "#0d0887"
             ],
             [
              0.1111111111111111,
              "#46039f"
             ],
             [
              0.2222222222222222,
              "#7201a8"
             ],
             [
              0.3333333333333333,
              "#9c179e"
             ],
             [
              0.4444444444444444,
              "#bd3786"
             ],
             [
              0.5555555555555556,
              "#d8576b"
             ],
             [
              0.6666666666666666,
              "#ed7953"
             ],
             [
              0.7777777777777778,
              "#fb9f3a"
             ],
             [
              0.8888888888888888,
              "#fdca26"
             ],
             [
              1,
              "#f0f921"
             ]
            ],
            "type": "histogram2d"
           }
          ],
          "histogram2dcontour": [
           {
            "colorbar": {
             "outlinewidth": 0,
             "ticks": ""
            },
            "colorscale": [
             [
              0,
              "#0d0887"
             ],
             [
              0.1111111111111111,
              "#46039f"
             ],
             [
              0.2222222222222222,
              "#7201a8"
             ],
             [
              0.3333333333333333,
              "#9c179e"
             ],
             [
              0.4444444444444444,
              "#bd3786"
             ],
             [
              0.5555555555555556,
              "#d8576b"
             ],
             [
              0.6666666666666666,
              "#ed7953"
             ],
             [
              0.7777777777777778,
              "#fb9f3a"
             ],
             [
              0.8888888888888888,
              "#fdca26"
             ],
             [
              1,
              "#f0f921"
             ]
            ],
            "type": "histogram2dcontour"
           }
          ],
          "mesh3d": [
           {
            "colorbar": {
             "outlinewidth": 0,
             "ticks": ""
            },
            "type": "mesh3d"
           }
          ],
          "parcoords": [
           {
            "line": {
             "colorbar": {
              "outlinewidth": 0,
              "ticks": ""
             }
            },
            "type": "parcoords"
           }
          ],
          "pie": [
           {
            "automargin": true,
            "type": "pie"
           }
          ],
          "scatter": [
           {
            "fillpattern": {
             "fillmode": "overlay",
             "size": 10,
             "solidity": 0.2
            },
            "type": "scatter"
           }
          ],
          "scatter3d": [
           {
            "line": {
             "colorbar": {
              "outlinewidth": 0,
              "ticks": ""
             }
            },
            "marker": {
             "colorbar": {
              "outlinewidth": 0,
              "ticks": ""
             }
            },
            "type": "scatter3d"
           }
          ],
          "scattercarpet": [
           {
            "marker": {
             "colorbar": {
              "outlinewidth": 0,
              "ticks": ""
             }
            },
            "type": "scattercarpet"
           }
          ],
          "scattergeo": [
           {
            "marker": {
             "colorbar": {
              "outlinewidth": 0,
              "ticks": ""
             }
            },
            "type": "scattergeo"
           }
          ],
          "scattergl": [
           {
            "marker": {
             "colorbar": {
              "outlinewidth": 0,
              "ticks": ""
             }
            },
            "type": "scattergl"
           }
          ],
          "scattermapbox": [
           {
            "marker": {
             "colorbar": {
              "outlinewidth": 0,
              "ticks": ""
             }
            },
            "type": "scattermapbox"
           }
          ],
          "scatterpolar": [
           {
            "marker": {
             "colorbar": {
              "outlinewidth": 0,
              "ticks": ""
             }
            },
            "type": "scatterpolar"
           }
          ],
          "scatterpolargl": [
           {
            "marker": {
             "colorbar": {
              "outlinewidth": 0,
              "ticks": ""
             }
            },
            "type": "scatterpolargl"
           }
          ],
          "scatterternary": [
           {
            "marker": {
             "colorbar": {
              "outlinewidth": 0,
              "ticks": ""
             }
            },
            "type": "scatterternary"
           }
          ],
          "surface": [
           {
            "colorbar": {
             "outlinewidth": 0,
             "ticks": ""
            },
            "colorscale": [
             [
              0,
              "#0d0887"
             ],
             [
              0.1111111111111111,
              "#46039f"
             ],
             [
              0.2222222222222222,
              "#7201a8"
             ],
             [
              0.3333333333333333,
              "#9c179e"
             ],
             [
              0.4444444444444444,
              "#bd3786"
             ],
             [
              0.5555555555555556,
              "#d8576b"
             ],
             [
              0.6666666666666666,
              "#ed7953"
             ],
             [
              0.7777777777777778,
              "#fb9f3a"
             ],
             [
              0.8888888888888888,
              "#fdca26"
             ],
             [
              1,
              "#f0f921"
             ]
            ],
            "type": "surface"
           }
          ],
          "table": [
           {
            "cells": {
             "fill": {
              "color": "#EBF0F8"
             },
             "line": {
              "color": "white"
             }
            },
            "header": {
             "fill": {
              "color": "#C8D4E3"
             },
             "line": {
              "color": "white"
             }
            },
            "type": "table"
           }
          ]
         },
         "layout": {
          "annotationdefaults": {
           "arrowcolor": "#2a3f5f",
           "arrowhead": 0,
           "arrowwidth": 1
          },
          "autotypenumbers": "strict",
          "coloraxis": {
           "colorbar": {
            "outlinewidth": 0,
            "ticks": ""
           }
          },
          "colorscale": {
           "diverging": [
            [
             0,
             "#8e0152"
            ],
            [
             0.1,
             "#c51b7d"
            ],
            [
             0.2,
             "#de77ae"
            ],
            [
             0.3,
             "#f1b6da"
            ],
            [
             0.4,
             "#fde0ef"
            ],
            [
             0.5,
             "#f7f7f7"
            ],
            [
             0.6,
             "#e6f5d0"
            ],
            [
             0.7,
             "#b8e186"
            ],
            [
             0.8,
             "#7fbc41"
            ],
            [
             0.9,
             "#4d9221"
            ],
            [
             1,
             "#276419"
            ]
           ],
           "sequential": [
            [
             0,
             "#0d0887"
            ],
            [
             0.1111111111111111,
             "#46039f"
            ],
            [
             0.2222222222222222,
             "#7201a8"
            ],
            [
             0.3333333333333333,
             "#9c179e"
            ],
            [
             0.4444444444444444,
             "#bd3786"
            ],
            [
             0.5555555555555556,
             "#d8576b"
            ],
            [
             0.6666666666666666,
             "#ed7953"
            ],
            [
             0.7777777777777778,
             "#fb9f3a"
            ],
            [
             0.8888888888888888,
             "#fdca26"
            ],
            [
             1,
             "#f0f921"
            ]
           ],
           "sequentialminus": [
            [
             0,
             "#0d0887"
            ],
            [
             0.1111111111111111,
             "#46039f"
            ],
            [
             0.2222222222222222,
             "#7201a8"
            ],
            [
             0.3333333333333333,
             "#9c179e"
            ],
            [
             0.4444444444444444,
             "#bd3786"
            ],
            [
             0.5555555555555556,
             "#d8576b"
            ],
            [
             0.6666666666666666,
             "#ed7953"
            ],
            [
             0.7777777777777778,
             "#fb9f3a"
            ],
            [
             0.8888888888888888,
             "#fdca26"
            ],
            [
             1,
             "#f0f921"
            ]
           ]
          },
          "colorway": [
           "#636efa",
           "#EF553B",
           "#00cc96",
           "#ab63fa",
           "#FFA15A",
           "#19d3f3",
           "#FF6692",
           "#B6E880",
           "#FF97FF",
           "#FECB52"
          ],
          "font": {
           "color": "#2a3f5f"
          },
          "geo": {
           "bgcolor": "white",
           "lakecolor": "white",
           "landcolor": "#E5ECF6",
           "showlakes": true,
           "showland": true,
           "subunitcolor": "white"
          },
          "hoverlabel": {
           "align": "left"
          },
          "hovermode": "closest",
          "mapbox": {
           "style": "light"
          },
          "paper_bgcolor": "white",
          "plot_bgcolor": "#E5ECF6",
          "polar": {
           "angularaxis": {
            "gridcolor": "white",
            "linecolor": "white",
            "ticks": ""
           },
           "bgcolor": "#E5ECF6",
           "radialaxis": {
            "gridcolor": "white",
            "linecolor": "white",
            "ticks": ""
           }
          },
          "scene": {
           "xaxis": {
            "backgroundcolor": "#E5ECF6",
            "gridcolor": "white",
            "gridwidth": 2,
            "linecolor": "white",
            "showbackground": true,
            "ticks": "",
            "zerolinecolor": "white"
           },
           "yaxis": {
            "backgroundcolor": "#E5ECF6",
            "gridcolor": "white",
            "gridwidth": 2,
            "linecolor": "white",
            "showbackground": true,
            "ticks": "",
            "zerolinecolor": "white"
           },
           "zaxis": {
            "backgroundcolor": "#E5ECF6",
            "gridcolor": "white",
            "gridwidth": 2,
            "linecolor": "white",
            "showbackground": true,
            "ticks": "",
            "zerolinecolor": "white"
           }
          },
          "shapedefaults": {
           "line": {
            "color": "#2a3f5f"
           }
          },
          "ternary": {
           "aaxis": {
            "gridcolor": "white",
            "linecolor": "white",
            "ticks": ""
           },
           "baxis": {
            "gridcolor": "white",
            "linecolor": "white",
            "ticks": ""
           },
           "bgcolor": "#E5ECF6",
           "caxis": {
            "gridcolor": "white",
            "linecolor": "white",
            "ticks": ""
           }
          },
          "title": {
           "x": 0.05
          },
          "xaxis": {
           "automargin": true,
           "gridcolor": "white",
           "linecolor": "white",
           "ticks": "",
           "title": {
            "standoff": 15
           },
           "zerolinecolor": "white",
           "zerolinewidth": 2
          },
          "yaxis": {
           "automargin": true,
           "gridcolor": "white",
           "linecolor": "white",
           "ticks": "",
           "title": {
            "standoff": 15
           },
           "zerolinecolor": "white",
           "zerolinewidth": 2
          }
         }
        },
        "xaxis": {
         "anchor": "y",
         "domain": [
          0,
          1
         ],
         "title": {
          "text": "Years"
         }
        },
        "yaxis": {
         "anchor": "x",
         "domain": [
          0,
          1
         ],
         "range": [
          8447,
          0.9
         ],
         "title": {
          "text": "Rank"
         }
        }
       }
      }
     },
     "metadata": {},
     "output_type": "display_data"
    },
    {
     "name": "stdout",
     "output_type": "stream",
     "text": [
      "Some names are missing from data: {'zazoo'}\n"
     ]
    }
   ],
   "source": [
    "# Use plotly express\n",
    "# Using plotly to plot dataframe in the wide data format: https://plotly.com/python/wide-form/?msclkid=7d97c0efcff811ec9b064ba538d4e0f1\n",
    "# Plotly Express performed an internal Pandas melt() operation to convert the wide-form data into long-form for plotting\n",
    "# selected_names_df is not exactly in the wide format, so plot the transpose\n",
    "name_list = ['John','Robert','William','Bettye', 'Minnie','zazoo']\n",
    "set_r = set(result_df.index)\n",
    "n_set = set(name_list)\n",
    "clean = list(n_set & set_r)\n",
    "selected_names_df = result_df.loc[clean]\n",
    "s_t = selected_names_df.T\n",
    "fig = px.line(s_t,x=s_t.index, y=s_t.columns) \n",
    "fig.update_traces(mode='lines+markers')\n",
    "fig.update_yaxes(range=(s_t.max().max() + 1,.9))\n",
    "fig.update_xaxes(title_text=\"Years\")\n",
    "fig.update_yaxes(title_text=\"Rank\")\n",
    "fig.show()\n",
    "missing = n_set - set_r\n",
    "if len(missing) != 0:\n",
    "    print (f'Some names are missing from data: {missing}')"
   ]
  },
  {
   "cell_type": "code",
   "execution_count": 134,
   "metadata": {},
   "outputs": [
    {
     "name": "stdout",
     "output_type": "stream",
     "text": [
      "clean={'Minnie', 'William', 'Robert', 'Bettye', 'John'} , missing={'zazoo'}\n"
     ]
    }
   ],
   "source": [
    "# Use set intersection and difference to get list of names that are present in the data and those that are missing\n",
    "set_r = set(result_df.index)\n",
    "n_list = ['John','Robert','William','Bettye', 'Minnie','zazoo']\n",
    "n_set = set(n_list)\n",
    "clean = n_set & set_r\n",
    "missing = n_set - set_r\n",
    "print (f'{clean=} , {missing=}')"
   ]
  },
  {
   "cell_type": "code",
   "execution_count": 199,
   "metadata": {},
   "outputs": [],
   "source": [
    "series_1915 = result_df.loc[:,'1915']\n",
    "start_set=set(series_1915[series_1915>0].index)\n",
    "\n",
    "series_2020 = result_df.loc[:,'2015']\n",
    "end_set=set(series_2020[series_2020>0].index)\n",
    "new_list = list(end_set - start_set)\n",
    "result_df_new = result_df.loc[new_list].sort_values(by='2015',ascending=True).head(20) # Sort ascending since lower values means higher rank\n",
    "#new_list\n",
    "#result_df_new\n"
   ]
  },
  {
   "cell_type": "code",
   "execution_count": 38,
   "metadata": {},
   "outputs": [],
   "source": [
    "def plot_name_rank(result_df,name_list):\n",
    "    set_r = set(result_df.index)\n",
    "    n_set = set(name_list)\n",
    "    clean = list(n_set & set_r)\n",
    "    selected_names_df = result_df.loc[clean]\n",
    "    s_t = selected_names_df.T\n",
    "    fig = px.line(s_t,x=s_t.index, y=s_t.columns) \n",
    "    fig.update_traces(mode='lines+markers')\n",
    "    fig.update_yaxes(range=(s_t.max().max() + 1,.9))\n",
    "    fig.update_xaxes(title_text=\"Years\")\n",
    "    fig.update_yaxes(title_text=\"Rank\")\n",
    "    fig.show()\n",
    "    missing = n_set - set_r\n",
    "    if len(missing) != 0:\n",
    "        print (f'Some names are missing from data: {missing}')"
   ]
  },
  {
   "cell_type": "code",
   "execution_count": 9,
   "metadata": {},
   "outputs": [
    {
     "data": {
      "text/html": [
       "<div>\n",
       "<style scoped>\n",
       "    .dataframe tbody tr th:only-of-type {\n",
       "        vertical-align: middle;\n",
       "    }\n",
       "\n",
       "    .dataframe tbody tr th {\n",
       "        vertical-align: top;\n",
       "    }\n",
       "\n",
       "    .dataframe thead th {\n",
       "        text-align: right;\n",
       "    }\n",
       "</style>\n",
       "<table border=\"1\" class=\"dataframe\">\n",
       "  <thead>\n",
       "    <tr style=\"text-align: right;\">\n",
       "      <th></th>\n",
       "      <th>1910</th>\n",
       "      <th>1915</th>\n",
       "      <th>1920</th>\n",
       "      <th>1925</th>\n",
       "      <th>1930</th>\n",
       "      <th>1935</th>\n",
       "      <th>1940</th>\n",
       "      <th>1945</th>\n",
       "      <th>1950</th>\n",
       "      <th>1955</th>\n",
       "      <th>...</th>\n",
       "      <th>1970</th>\n",
       "      <th>1975</th>\n",
       "      <th>1980</th>\n",
       "      <th>1985</th>\n",
       "      <th>1990</th>\n",
       "      <th>1995</th>\n",
       "      <th>2000</th>\n",
       "      <th>2005</th>\n",
       "      <th>2010</th>\n",
       "      <th>2015</th>\n",
       "    </tr>\n",
       "    <tr>\n",
       "      <th>Name</th>\n",
       "      <th></th>\n",
       "      <th></th>\n",
       "      <th></th>\n",
       "      <th></th>\n",
       "      <th></th>\n",
       "      <th></th>\n",
       "      <th></th>\n",
       "      <th></th>\n",
       "      <th></th>\n",
       "      <th></th>\n",
       "      <th></th>\n",
       "      <th></th>\n",
       "      <th></th>\n",
       "      <th></th>\n",
       "      <th></th>\n",
       "      <th></th>\n",
       "      <th></th>\n",
       "      <th></th>\n",
       "      <th></th>\n",
       "      <th></th>\n",
       "      <th></th>\n",
       "    </tr>\n",
       "  </thead>\n",
       "  <tbody>\n",
       "    <tr>\n",
       "      <th>Aaban</th>\n",
       "      <td>NaN</td>\n",
       "      <td>NaN</td>\n",
       "      <td>NaN</td>\n",
       "      <td>NaN</td>\n",
       "      <td>NaN</td>\n",
       "      <td>NaN</td>\n",
       "      <td>NaN</td>\n",
       "      <td>NaN</td>\n",
       "      <td>NaN</td>\n",
       "      <td>NaN</td>\n",
       "      <td>...</td>\n",
       "      <td>NaN</td>\n",
       "      <td>NaN</td>\n",
       "      <td>NaN</td>\n",
       "      <td>NaN</td>\n",
       "      <td>NaN</td>\n",
       "      <td>NaN</td>\n",
       "      <td>NaN</td>\n",
       "      <td>NaN</td>\n",
       "      <td>9929.0</td>\n",
       "      <td>NaN</td>\n",
       "    </tr>\n",
       "    <tr>\n",
       "      <th>Aadam</th>\n",
       "      <td>NaN</td>\n",
       "      <td>NaN</td>\n",
       "      <td>NaN</td>\n",
       "      <td>NaN</td>\n",
       "      <td>NaN</td>\n",
       "      <td>NaN</td>\n",
       "      <td>NaN</td>\n",
       "      <td>NaN</td>\n",
       "      <td>NaN</td>\n",
       "      <td>NaN</td>\n",
       "      <td>...</td>\n",
       "      <td>NaN</td>\n",
       "      <td>NaN</td>\n",
       "      <td>NaN</td>\n",
       "      <td>NaN</td>\n",
       "      <td>NaN</td>\n",
       "      <td>NaN</td>\n",
       "      <td>NaN</td>\n",
       "      <td>NaN</td>\n",
       "      <td>NaN</td>\n",
       "      <td>10859.0</td>\n",
       "    </tr>\n",
       "    <tr>\n",
       "      <th>Aadan</th>\n",
       "      <td>NaN</td>\n",
       "      <td>NaN</td>\n",
       "      <td>NaN</td>\n",
       "      <td>NaN</td>\n",
       "      <td>NaN</td>\n",
       "      <td>NaN</td>\n",
       "      <td>NaN</td>\n",
       "      <td>NaN</td>\n",
       "      <td>NaN</td>\n",
       "      <td>NaN</td>\n",
       "      <td>...</td>\n",
       "      <td>NaN</td>\n",
       "      <td>NaN</td>\n",
       "      <td>NaN</td>\n",
       "      <td>NaN</td>\n",
       "      <td>NaN</td>\n",
       "      <td>NaN</td>\n",
       "      <td>NaN</td>\n",
       "      <td>9120.0</td>\n",
       "      <td>12135.0</td>\n",
       "      <td>NaN</td>\n",
       "    </tr>\n",
       "    <tr>\n",
       "      <th>Aadarsh</th>\n",
       "      <td>NaN</td>\n",
       "      <td>NaN</td>\n",
       "      <td>NaN</td>\n",
       "      <td>NaN</td>\n",
       "      <td>NaN</td>\n",
       "      <td>NaN</td>\n",
       "      <td>NaN</td>\n",
       "      <td>NaN</td>\n",
       "      <td>NaN</td>\n",
       "      <td>NaN</td>\n",
       "      <td>...</td>\n",
       "      <td>NaN</td>\n",
       "      <td>NaN</td>\n",
       "      <td>NaN</td>\n",
       "      <td>NaN</td>\n",
       "      <td>NaN</td>\n",
       "      <td>NaN</td>\n",
       "      <td>NaN</td>\n",
       "      <td>12280.0</td>\n",
       "      <td>NaN</td>\n",
       "      <td>10859.0</td>\n",
       "    </tr>\n",
       "    <tr>\n",
       "      <th>Aaden</th>\n",
       "      <td>NaN</td>\n",
       "      <td>NaN</td>\n",
       "      <td>NaN</td>\n",
       "      <td>NaN</td>\n",
       "      <td>NaN</td>\n",
       "      <td>NaN</td>\n",
       "      <td>NaN</td>\n",
       "      <td>NaN</td>\n",
       "      <td>NaN</td>\n",
       "      <td>NaN</td>\n",
       "      <td>...</td>\n",
       "      <td>NaN</td>\n",
       "      <td>NaN</td>\n",
       "      <td>NaN</td>\n",
       "      <td>NaN</td>\n",
       "      <td>NaN</td>\n",
       "      <td>NaN</td>\n",
       "      <td>NaN</td>\n",
       "      <td>1106.0</td>\n",
       "      <td>1697.0</td>\n",
       "      <td>2186.0</td>\n",
       "    </tr>\n",
       "  </tbody>\n",
       "</table>\n",
       "<p>5 rows × 22 columns</p>\n",
       "</div>"
      ],
      "text/plain": [
       "         1910  1915  1920  1925  1930  1935  1940  1945  1950  1955  ...  \\\n",
       "Name                                                                 ...   \n",
       "Aaban     NaN   NaN   NaN   NaN   NaN   NaN   NaN   NaN   NaN   NaN  ...   \n",
       "Aadam     NaN   NaN   NaN   NaN   NaN   NaN   NaN   NaN   NaN   NaN  ...   \n",
       "Aadan     NaN   NaN   NaN   NaN   NaN   NaN   NaN   NaN   NaN   NaN  ...   \n",
       "Aadarsh   NaN   NaN   NaN   NaN   NaN   NaN   NaN   NaN   NaN   NaN  ...   \n",
       "Aaden     NaN   NaN   NaN   NaN   NaN   NaN   NaN   NaN   NaN   NaN  ...   \n",
       "\n",
       "         1970  1975  1980  1985  1990  1995  2000     2005     2010     2015  \n",
       "Name                                                                          \n",
       "Aaban     NaN   NaN   NaN   NaN   NaN   NaN   NaN      NaN   9929.0      NaN  \n",
       "Aadam     NaN   NaN   NaN   NaN   NaN   NaN   NaN      NaN      NaN  10859.0  \n",
       "Aadan     NaN   NaN   NaN   NaN   NaN   NaN   NaN   9120.0  12135.0      NaN  \n",
       "Aadarsh   NaN   NaN   NaN   NaN   NaN   NaN   NaN  12280.0      NaN  10859.0  \n",
       "Aaden     NaN   NaN   NaN   NaN   NaN   NaN   NaN   1106.0   1697.0   2186.0  \n",
       "\n",
       "[5 rows x 22 columns]"
      ]
     },
     "execution_count": 9,
     "metadata": {},
     "output_type": "execute_result"
    }
   ],
   "source": [
    "result_df.head()"
   ]
  },
  {
   "cell_type": "code",
   "execution_count": 12,
   "metadata": {},
   "outputs": [
    {
     "name": "stdout",
     "output_type": "stream",
     "text": [
      "Total number of distinct names 31865\n"
     ]
    }
   ],
   "source": [
    "all_names_list = list(result_df.index)\n",
    "print (f'Total number of distinct names {len(all_names_list)}')"
   ]
  },
  {
   "cell_type": "code",
   "execution_count": 30,
   "metadata": {},
   "outputs": [],
   "source": [
    "all_names_df = result_df.index.to_frame(index=False)\n"
   ]
  },
  {
   "cell_type": "code",
   "execution_count": 31,
   "metadata": {},
   "outputs": [
    {
     "data": {
      "text/html": [
       "<div>\n",
       "<style scoped>\n",
       "    .dataframe tbody tr th:only-of-type {\n",
       "        vertical-align: middle;\n",
       "    }\n",
       "\n",
       "    .dataframe tbody tr th {\n",
       "        vertical-align: top;\n",
       "    }\n",
       "\n",
       "    .dataframe thead th {\n",
       "        text-align: right;\n",
       "    }\n",
       "</style>\n",
       "<table border=\"1\" class=\"dataframe\">\n",
       "  <thead>\n",
       "    <tr style=\"text-align: right;\">\n",
       "      <th></th>\n",
       "      <th>Name</th>\n",
       "      <th>Length</th>\n",
       "    </tr>\n",
       "  </thead>\n",
       "  <tbody>\n",
       "    <tr>\n",
       "      <th>25366</th>\n",
       "      <td>Ryanchristopher</td>\n",
       "      <td>15</td>\n",
       "    </tr>\n",
       "    <tr>\n",
       "      <th>14511</th>\n",
       "      <td>Johnchristopher</td>\n",
       "      <td>15</td>\n",
       "    </tr>\n",
       "    <tr>\n",
       "      <th>19919</th>\n",
       "      <td>Mariadelosangel</td>\n",
       "      <td>15</td>\n",
       "    </tr>\n",
       "    <tr>\n",
       "      <th>10310</th>\n",
       "      <td>Franciscojavier</td>\n",
       "      <td>15</td>\n",
       "    </tr>\n",
       "    <tr>\n",
       "      <th>22980</th>\n",
       "      <td>Oluwatimilehin</td>\n",
       "      <td>14</td>\n",
       "    </tr>\n",
       "    <tr>\n",
       "      <th>5869</th>\n",
       "      <td>Christinamarie</td>\n",
       "      <td>14</td>\n",
       "    </tr>\n",
       "    <tr>\n",
       "      <th>19927</th>\n",
       "      <td>Mariaguadalupe</td>\n",
       "      <td>14</td>\n",
       "    </tr>\n",
       "    <tr>\n",
       "      <th>21007</th>\n",
       "      <td>Michaelanthony</td>\n",
       "      <td>14</td>\n",
       "    </tr>\n",
       "    <tr>\n",
       "      <th>21018</th>\n",
       "      <td>Michaelvincent</td>\n",
       "      <td>14</td>\n",
       "    </tr>\n",
       "    <tr>\n",
       "      <th>1068</th>\n",
       "      <td>Alexanderjames</td>\n",
       "      <td>14</td>\n",
       "    </tr>\n",
       "  </tbody>\n",
       "</table>\n",
       "</div>"
      ],
      "text/plain": [
       "                  Name  Length\n",
       "25366  Ryanchristopher      15\n",
       "14511  Johnchristopher      15\n",
       "19919  Mariadelosangel      15\n",
       "10310  Franciscojavier      15\n",
       "22980   Oluwatimilehin      14\n",
       "5869    Christinamarie      14\n",
       "19927   Mariaguadalupe      14\n",
       "21007   Michaelanthony      14\n",
       "21018   Michaelvincent      14\n",
       "1068    Alexanderjames      14"
      ]
     },
     "execution_count": 31,
     "metadata": {},
     "output_type": "execute_result"
    }
   ],
   "source": [
    "all_names_df['Length'] = all_names_df.applymap(lambda x:len(x))\n",
    "top_10_length_df = all_names_df.sort_values(by='Length',ascending=False).head(10)\n",
    "top_10_length_df"
   ]
  },
  {
   "cell_type": "code",
   "execution_count": 39,
   "metadata": {},
   "outputs": [],
   "source": [
    "top_10_names_length_list = top_10_length_df['Name'].to_list()"
   ]
  },
  {
   "cell_type": "code",
   "execution_count": 40,
   "metadata": {},
   "outputs": [
    {
     "data": {
      "application/vnd.plotly.v1+json": {
       "config": {
        "plotlyServerURL": "https://plot.ly"
       },
       "data": [
        {
         "hovertemplate": "Name=Michaelanthony<br>index=%{x}<br>value=%{y}<extra></extra>",
         "legendgroup": "Michaelanthony",
         "line": {
          "color": "#636efa",
          "dash": "solid"
         },
         "marker": {
          "symbol": "circle"
         },
         "mode": "lines+markers",
         "name": "Michaelanthony",
         "orientation": "v",
         "showlegend": true,
         "type": "scatter",
         "x": [
          "1910",
          "1915",
          "1920",
          "1925",
          "1930",
          "1935",
          "1940",
          "1945",
          "1950",
          "1955",
          "1960",
          "1965",
          "1970",
          "1975",
          "1980",
          "1985",
          "1990",
          "1995",
          "2000",
          "2005",
          "2010",
          "2015"
         ],
         "xaxis": "x",
         "y": [
          null,
          null,
          null,
          null,
          null,
          null,
          null,
          null,
          null,
          null,
          null,
          null,
          null,
          null,
          null,
          4925,
          5370,
          5178,
          10603,
          9460,
          null,
          null
         ],
         "yaxis": "y"
        },
        {
         "hovertemplate": "Name=Johnchristopher<br>index=%{x}<br>value=%{y}<extra></extra>",
         "legendgroup": "Johnchristopher",
         "line": {
          "color": "#EF553B",
          "dash": "solid"
         },
         "marker": {
          "symbol": "circle"
         },
         "mode": "lines+markers",
         "name": "Johnchristopher",
         "orientation": "v",
         "showlegend": true,
         "type": "scatter",
         "x": [
          "1910",
          "1915",
          "1920",
          "1925",
          "1930",
          "1935",
          "1940",
          "1945",
          "1950",
          "1955",
          "1960",
          "1965",
          "1970",
          "1975",
          "1980",
          "1985",
          "1990",
          "1995",
          "2000",
          "2005",
          "2010",
          "2015"
         ],
         "xaxis": "x",
         "y": [
          null,
          null,
          null,
          null,
          null,
          null,
          null,
          null,
          null,
          null,
          null,
          null,
          null,
          null,
          null,
          null,
          10065,
          null,
          null,
          null,
          null,
          null
         ],
         "yaxis": "y"
        },
        {
         "hovertemplate": "Name=Christinamarie<br>index=%{x}<br>value=%{y}<extra></extra>",
         "legendgroup": "Christinamarie",
         "line": {
          "color": "#00cc96",
          "dash": "solid"
         },
         "marker": {
          "symbol": "circle"
         },
         "mode": "lines+markers",
         "name": "Christinamarie",
         "orientation": "v",
         "showlegend": true,
         "type": "scatter",
         "x": [
          "1910",
          "1915",
          "1920",
          "1925",
          "1930",
          "1935",
          "1940",
          "1945",
          "1950",
          "1955",
          "1960",
          "1965",
          "1970",
          "1975",
          "1980",
          "1985",
          "1990",
          "1995",
          "2000",
          "2005",
          "2010",
          "2015"
         ],
         "xaxis": "x",
         "y": [
          null,
          null,
          null,
          null,
          null,
          null,
          null,
          null,
          null,
          null,
          null,
          null,
          null,
          null,
          7468,
          8484,
          null,
          null,
          null,
          null,
          null,
          null
         ],
         "yaxis": "y"
        },
        {
         "hovertemplate": "Name=Franciscojavier<br>index=%{x}<br>value=%{y}<extra></extra>",
         "legendgroup": "Franciscojavier",
         "line": {
          "color": "#ab63fa",
          "dash": "solid"
         },
         "marker": {
          "symbol": "circle"
         },
         "mode": "lines+markers",
         "name": "Franciscojavier",
         "orientation": "v",
         "showlegend": true,
         "type": "scatter",
         "x": [
          "1910",
          "1915",
          "1920",
          "1925",
          "1930",
          "1935",
          "1940",
          "1945",
          "1950",
          "1955",
          "1960",
          "1965",
          "1970",
          "1975",
          "1980",
          "1985",
          "1990",
          "1995",
          "2000",
          "2005",
          "2010",
          "2015"
         ],
         "xaxis": "x",
         "y": [
          null,
          null,
          null,
          null,
          null,
          null,
          null,
          null,
          null,
          null,
          null,
          null,
          null,
          null,
          null,
          5926,
          9448,
          7354,
          10603,
          null,
          null,
          null
         ],
         "yaxis": "y"
        },
        {
         "hovertemplate": "Name=Michaelvincent<br>index=%{x}<br>value=%{y}<extra></extra>",
         "legendgroup": "Michaelvincent",
         "line": {
          "color": "#FFA15A",
          "dash": "solid"
         },
         "marker": {
          "symbol": "circle"
         },
         "mode": "lines+markers",
         "name": "Michaelvincent",
         "orientation": "v",
         "showlegend": true,
         "type": "scatter",
         "x": [
          "1910",
          "1915",
          "1920",
          "1925",
          "1930",
          "1935",
          "1940",
          "1945",
          "1950",
          "1955",
          "1960",
          "1965",
          "1970",
          "1975",
          "1980",
          "1985",
          "1990",
          "1995",
          "2000",
          "2005",
          "2010",
          "2015"
         ],
         "xaxis": "x",
         "y": [
          null,
          null,
          null,
          null,
          null,
          null,
          null,
          null,
          null,
          null,
          null,
          null,
          null,
          null,
          null,
          7965,
          9448,
          null,
          null,
          null,
          null,
          null
         ],
         "yaxis": "y"
        },
        {
         "hovertemplate": "Name=Mariadelosangel<br>index=%{x}<br>value=%{y}<extra></extra>",
         "legendgroup": "Mariadelosangel",
         "line": {
          "color": "#19d3f3",
          "dash": "solid"
         },
         "marker": {
          "symbol": "circle"
         },
         "mode": "lines+markers",
         "name": "Mariadelosangel",
         "orientation": "v",
         "showlegend": true,
         "type": "scatter",
         "x": [
          "1910",
          "1915",
          "1920",
          "1925",
          "1930",
          "1935",
          "1940",
          "1945",
          "1950",
          "1955",
          "1960",
          "1965",
          "1970",
          "1975",
          "1980",
          "1985",
          "1990",
          "1995",
          "2000",
          "2005",
          "2010",
          "2015"
         ],
         "xaxis": "x",
         "y": [
          null,
          null,
          null,
          null,
          null,
          null,
          null,
          null,
          null,
          null,
          null,
          null,
          null,
          null,
          null,
          8484,
          null,
          null,
          null,
          null,
          null,
          null
         ],
         "yaxis": "y"
        },
        {
         "hovertemplate": "Name=Oluwatimilehin<br>index=%{x}<br>value=%{y}<extra></extra>",
         "legendgroup": "Oluwatimilehin",
         "line": {
          "color": "#FF6692",
          "dash": "solid"
         },
         "marker": {
          "symbol": "circle"
         },
         "mode": "lines+markers",
         "name": "Oluwatimilehin",
         "orientation": "v",
         "showlegend": true,
         "type": "scatter",
         "x": [
          "1910",
          "1915",
          "1920",
          "1925",
          "1930",
          "1935",
          "1940",
          "1945",
          "1950",
          "1955",
          "1960",
          "1965",
          "1970",
          "1975",
          "1980",
          "1985",
          "1990",
          "1995",
          "2000",
          "2005",
          "2010",
          "2015"
         ],
         "xaxis": "x",
         "y": [
          null,
          null,
          null,
          null,
          null,
          null,
          null,
          null,
          null,
          null,
          null,
          null,
          null,
          null,
          null,
          null,
          null,
          null,
          null,
          12280,
          12135,
          10859
         ],
         "yaxis": "y"
        },
        {
         "hovertemplate": "Name=Ryanchristopher<br>index=%{x}<br>value=%{y}<extra></extra>",
         "legendgroup": "Ryanchristopher",
         "line": {
          "color": "#B6E880",
          "dash": "solid"
         },
         "marker": {
          "symbol": "circle"
         },
         "mode": "lines+markers",
         "name": "Ryanchristopher",
         "orientation": "v",
         "showlegend": true,
         "type": "scatter",
         "x": [
          "1910",
          "1915",
          "1920",
          "1925",
          "1930",
          "1935",
          "1940",
          "1945",
          "1950",
          "1955",
          "1960",
          "1965",
          "1970",
          "1975",
          "1980",
          "1985",
          "1990",
          "1995",
          "2000",
          "2005",
          "2010",
          "2015"
         ],
         "xaxis": "x",
         "y": [
          null,
          null,
          null,
          null,
          null,
          null,
          null,
          null,
          null,
          null,
          null,
          null,
          null,
          null,
          null,
          null,
          8121,
          10214,
          null,
          null,
          null,
          null
         ],
         "yaxis": "y"
        },
        {
         "hovertemplate": "Name=Mariaguadalupe<br>index=%{x}<br>value=%{y}<extra></extra>",
         "legendgroup": "Mariaguadalupe",
         "line": {
          "color": "#FF97FF",
          "dash": "solid"
         },
         "marker": {
          "symbol": "circle"
         },
         "mode": "lines+markers",
         "name": "Mariaguadalupe",
         "orientation": "v",
         "showlegend": true,
         "type": "scatter",
         "x": [
          "1910",
          "1915",
          "1920",
          "1925",
          "1930",
          "1935",
          "1940",
          "1945",
          "1950",
          "1955",
          "1960",
          "1965",
          "1970",
          "1975",
          "1980",
          "1985",
          "1990",
          "1995",
          "2000",
          "2005",
          "2010",
          "2015"
         ],
         "xaxis": "x",
         "y": [
          null,
          null,
          null,
          null,
          null,
          null,
          null,
          null,
          null,
          null,
          null,
          null,
          null,
          null,
          7007,
          3938,
          4569,
          4066,
          5218,
          6195,
          7870,
          11477
         ],
         "yaxis": "y"
        },
        {
         "hovertemplate": "Name=Alexanderjames<br>index=%{x}<br>value=%{y}<extra></extra>",
         "legendgroup": "Alexanderjames",
         "line": {
          "color": "#FECB52",
          "dash": "solid"
         },
         "marker": {
          "symbol": "circle"
         },
         "mode": "lines+markers",
         "name": "Alexanderjames",
         "orientation": "v",
         "showlegend": true,
         "type": "scatter",
         "x": [
          "1910",
          "1915",
          "1920",
          "1925",
          "1930",
          "1935",
          "1940",
          "1945",
          "1950",
          "1955",
          "1960",
          "1965",
          "1970",
          "1975",
          "1980",
          "1985",
          "1990",
          "1995",
          "2000",
          "2005",
          "2010",
          "2015"
         ],
         "xaxis": "x",
         "y": [
          null,
          null,
          null,
          null,
          null,
          null,
          null,
          null,
          null,
          null,
          null,
          null,
          null,
          null,
          null,
          null,
          null,
          null,
          null,
          12280,
          null,
          null
         ],
         "yaxis": "y"
        }
       ],
       "layout": {
        "legend": {
         "title": {
          "text": "Name"
         },
         "tracegroupgap": 0
        },
        "margin": {
         "t": 60
        },
        "template": {
         "data": {
          "bar": [
           {
            "error_x": {
             "color": "#2a3f5f"
            },
            "error_y": {
             "color": "#2a3f5f"
            },
            "marker": {
             "line": {
              "color": "#E5ECF6",
              "width": 0.5
             },
             "pattern": {
              "fillmode": "overlay",
              "size": 10,
              "solidity": 0.2
             }
            },
            "type": "bar"
           }
          ],
          "barpolar": [
           {
            "marker": {
             "line": {
              "color": "#E5ECF6",
              "width": 0.5
             },
             "pattern": {
              "fillmode": "overlay",
              "size": 10,
              "solidity": 0.2
             }
            },
            "type": "barpolar"
           }
          ],
          "carpet": [
           {
            "aaxis": {
             "endlinecolor": "#2a3f5f",
             "gridcolor": "white",
             "linecolor": "white",
             "minorgridcolor": "white",
             "startlinecolor": "#2a3f5f"
            },
            "baxis": {
             "endlinecolor": "#2a3f5f",
             "gridcolor": "white",
             "linecolor": "white",
             "minorgridcolor": "white",
             "startlinecolor": "#2a3f5f"
            },
            "type": "carpet"
           }
          ],
          "choropleth": [
           {
            "colorbar": {
             "outlinewidth": 0,
             "ticks": ""
            },
            "type": "choropleth"
           }
          ],
          "contour": [
           {
            "colorbar": {
             "outlinewidth": 0,
             "ticks": ""
            },
            "colorscale": [
             [
              0,
              "#0d0887"
             ],
             [
              0.1111111111111111,
              "#46039f"
             ],
             [
              0.2222222222222222,
              "#7201a8"
             ],
             [
              0.3333333333333333,
              "#9c179e"
             ],
             [
              0.4444444444444444,
              "#bd3786"
             ],
             [
              0.5555555555555556,
              "#d8576b"
             ],
             [
              0.6666666666666666,
              "#ed7953"
             ],
             [
              0.7777777777777778,
              "#fb9f3a"
             ],
             [
              0.8888888888888888,
              "#fdca26"
             ],
             [
              1,
              "#f0f921"
             ]
            ],
            "type": "contour"
           }
          ],
          "contourcarpet": [
           {
            "colorbar": {
             "outlinewidth": 0,
             "ticks": ""
            },
            "type": "contourcarpet"
           }
          ],
          "heatmap": [
           {
            "colorbar": {
             "outlinewidth": 0,
             "ticks": ""
            },
            "colorscale": [
             [
              0,
              "#0d0887"
             ],
             [
              0.1111111111111111,
              "#46039f"
             ],
             [
              0.2222222222222222,
              "#7201a8"
             ],
             [
              0.3333333333333333,
              "#9c179e"
             ],
             [
              0.4444444444444444,
              "#bd3786"
             ],
             [
              0.5555555555555556,
              "#d8576b"
             ],
             [
              0.6666666666666666,
              "#ed7953"
             ],
             [
              0.7777777777777778,
              "#fb9f3a"
             ],
             [
              0.8888888888888888,
              "#fdca26"
             ],
             [
              1,
              "#f0f921"
             ]
            ],
            "type": "heatmap"
           }
          ],
          "heatmapgl": [
           {
            "colorbar": {
             "outlinewidth": 0,
             "ticks": ""
            },
            "colorscale": [
             [
              0,
              "#0d0887"
             ],
             [
              0.1111111111111111,
              "#46039f"
             ],
             [
              0.2222222222222222,
              "#7201a8"
             ],
             [
              0.3333333333333333,
              "#9c179e"
             ],
             [
              0.4444444444444444,
              "#bd3786"
             ],
             [
              0.5555555555555556,
              "#d8576b"
             ],
             [
              0.6666666666666666,
              "#ed7953"
             ],
             [
              0.7777777777777778,
              "#fb9f3a"
             ],
             [
              0.8888888888888888,
              "#fdca26"
             ],
             [
              1,
              "#f0f921"
             ]
            ],
            "type": "heatmapgl"
           }
          ],
          "histogram": [
           {
            "marker": {
             "pattern": {
              "fillmode": "overlay",
              "size": 10,
              "solidity": 0.2
             }
            },
            "type": "histogram"
           }
          ],
          "histogram2d": [
           {
            "colorbar": {
             "outlinewidth": 0,
             "ticks": ""
            },
            "colorscale": [
             [
              0,
              "#0d0887"
             ],
             [
              0.1111111111111111,
              "#46039f"
             ],
             [
              0.2222222222222222,
              "#7201a8"
             ],
             [
              0.3333333333333333,
              "#9c179e"
             ],
             [
              0.4444444444444444,
              "#bd3786"
             ],
             [
              0.5555555555555556,
              "#d8576b"
             ],
             [
              0.6666666666666666,
              "#ed7953"
             ],
             [
              0.7777777777777778,
              "#fb9f3a"
             ],
             [
              0.8888888888888888,
              "#fdca26"
             ],
             [
              1,
              "#f0f921"
             ]
            ],
            "type": "histogram2d"
           }
          ],
          "histogram2dcontour": [
           {
            "colorbar": {
             "outlinewidth": 0,
             "ticks": ""
            },
            "colorscale": [
             [
              0,
              "#0d0887"
             ],
             [
              0.1111111111111111,
              "#46039f"
             ],
             [
              0.2222222222222222,
              "#7201a8"
             ],
             [
              0.3333333333333333,
              "#9c179e"
             ],
             [
              0.4444444444444444,
              "#bd3786"
             ],
             [
              0.5555555555555556,
              "#d8576b"
             ],
             [
              0.6666666666666666,
              "#ed7953"
             ],
             [
              0.7777777777777778,
              "#fb9f3a"
             ],
             [
              0.8888888888888888,
              "#fdca26"
             ],
             [
              1,
              "#f0f921"
             ]
            ],
            "type": "histogram2dcontour"
           }
          ],
          "mesh3d": [
           {
            "colorbar": {
             "outlinewidth": 0,
             "ticks": ""
            },
            "type": "mesh3d"
           }
          ],
          "parcoords": [
           {
            "line": {
             "colorbar": {
              "outlinewidth": 0,
              "ticks": ""
             }
            },
            "type": "parcoords"
           }
          ],
          "pie": [
           {
            "automargin": true,
            "type": "pie"
           }
          ],
          "scatter": [
           {
            "fillpattern": {
             "fillmode": "overlay",
             "size": 10,
             "solidity": 0.2
            },
            "type": "scatter"
           }
          ],
          "scatter3d": [
           {
            "line": {
             "colorbar": {
              "outlinewidth": 0,
              "ticks": ""
             }
            },
            "marker": {
             "colorbar": {
              "outlinewidth": 0,
              "ticks": ""
             }
            },
            "type": "scatter3d"
           }
          ],
          "scattercarpet": [
           {
            "marker": {
             "colorbar": {
              "outlinewidth": 0,
              "ticks": ""
             }
            },
            "type": "scattercarpet"
           }
          ],
          "scattergeo": [
           {
            "marker": {
             "colorbar": {
              "outlinewidth": 0,
              "ticks": ""
             }
            },
            "type": "scattergeo"
           }
          ],
          "scattergl": [
           {
            "marker": {
             "colorbar": {
              "outlinewidth": 0,
              "ticks": ""
             }
            },
            "type": "scattergl"
           }
          ],
          "scattermapbox": [
           {
            "marker": {
             "colorbar": {
              "outlinewidth": 0,
              "ticks": ""
             }
            },
            "type": "scattermapbox"
           }
          ],
          "scatterpolar": [
           {
            "marker": {
             "colorbar": {
              "outlinewidth": 0,
              "ticks": ""
             }
            },
            "type": "scatterpolar"
           }
          ],
          "scatterpolargl": [
           {
            "marker": {
             "colorbar": {
              "outlinewidth": 0,
              "ticks": ""
             }
            },
            "type": "scatterpolargl"
           }
          ],
          "scatterternary": [
           {
            "marker": {
             "colorbar": {
              "outlinewidth": 0,
              "ticks": ""
             }
            },
            "type": "scatterternary"
           }
          ],
          "surface": [
           {
            "colorbar": {
             "outlinewidth": 0,
             "ticks": ""
            },
            "colorscale": [
             [
              0,
              "#0d0887"
             ],
             [
              0.1111111111111111,
              "#46039f"
             ],
             [
              0.2222222222222222,
              "#7201a8"
             ],
             [
              0.3333333333333333,
              "#9c179e"
             ],
             [
              0.4444444444444444,
              "#bd3786"
             ],
             [
              0.5555555555555556,
              "#d8576b"
             ],
             [
              0.6666666666666666,
              "#ed7953"
             ],
             [
              0.7777777777777778,
              "#fb9f3a"
             ],
             [
              0.8888888888888888,
              "#fdca26"
             ],
             [
              1,
              "#f0f921"
             ]
            ],
            "type": "surface"
           }
          ],
          "table": [
           {
            "cells": {
             "fill": {
              "color": "#EBF0F8"
             },
             "line": {
              "color": "white"
             }
            },
            "header": {
             "fill": {
              "color": "#C8D4E3"
             },
             "line": {
              "color": "white"
             }
            },
            "type": "table"
           }
          ]
         },
         "layout": {
          "annotationdefaults": {
           "arrowcolor": "#2a3f5f",
           "arrowhead": 0,
           "arrowwidth": 1
          },
          "autotypenumbers": "strict",
          "coloraxis": {
           "colorbar": {
            "outlinewidth": 0,
            "ticks": ""
           }
          },
          "colorscale": {
           "diverging": [
            [
             0,
             "#8e0152"
            ],
            [
             0.1,
             "#c51b7d"
            ],
            [
             0.2,
             "#de77ae"
            ],
            [
             0.3,
             "#f1b6da"
            ],
            [
             0.4,
             "#fde0ef"
            ],
            [
             0.5,
             "#f7f7f7"
            ],
            [
             0.6,
             "#e6f5d0"
            ],
            [
             0.7,
             "#b8e186"
            ],
            [
             0.8,
             "#7fbc41"
            ],
            [
             0.9,
             "#4d9221"
            ],
            [
             1,
             "#276419"
            ]
           ],
           "sequential": [
            [
             0,
             "#0d0887"
            ],
            [
             0.1111111111111111,
             "#46039f"
            ],
            [
             0.2222222222222222,
             "#7201a8"
            ],
            [
             0.3333333333333333,
             "#9c179e"
            ],
            [
             0.4444444444444444,
             "#bd3786"
            ],
            [
             0.5555555555555556,
             "#d8576b"
            ],
            [
             0.6666666666666666,
             "#ed7953"
            ],
            [
             0.7777777777777778,
             "#fb9f3a"
            ],
            [
             0.8888888888888888,
             "#fdca26"
            ],
            [
             1,
             "#f0f921"
            ]
           ],
           "sequentialminus": [
            [
             0,
             "#0d0887"
            ],
            [
             0.1111111111111111,
             "#46039f"
            ],
            [
             0.2222222222222222,
             "#7201a8"
            ],
            [
             0.3333333333333333,
             "#9c179e"
            ],
            [
             0.4444444444444444,
             "#bd3786"
            ],
            [
             0.5555555555555556,
             "#d8576b"
            ],
            [
             0.6666666666666666,
             "#ed7953"
            ],
            [
             0.7777777777777778,
             "#fb9f3a"
            ],
            [
             0.8888888888888888,
             "#fdca26"
            ],
            [
             1,
             "#f0f921"
            ]
           ]
          },
          "colorway": [
           "#636efa",
           "#EF553B",
           "#00cc96",
           "#ab63fa",
           "#FFA15A",
           "#19d3f3",
           "#FF6692",
           "#B6E880",
           "#FF97FF",
           "#FECB52"
          ],
          "font": {
           "color": "#2a3f5f"
          },
          "geo": {
           "bgcolor": "white",
           "lakecolor": "white",
           "landcolor": "#E5ECF6",
           "showlakes": true,
           "showland": true,
           "subunitcolor": "white"
          },
          "hoverlabel": {
           "align": "left"
          },
          "hovermode": "closest",
          "mapbox": {
           "style": "light"
          },
          "paper_bgcolor": "white",
          "plot_bgcolor": "#E5ECF6",
          "polar": {
           "angularaxis": {
            "gridcolor": "white",
            "linecolor": "white",
            "ticks": ""
           },
           "bgcolor": "#E5ECF6",
           "radialaxis": {
            "gridcolor": "white",
            "linecolor": "white",
            "ticks": ""
           }
          },
          "scene": {
           "xaxis": {
            "backgroundcolor": "#E5ECF6",
            "gridcolor": "white",
            "gridwidth": 2,
            "linecolor": "white",
            "showbackground": true,
            "ticks": "",
            "zerolinecolor": "white"
           },
           "yaxis": {
            "backgroundcolor": "#E5ECF6",
            "gridcolor": "white",
            "gridwidth": 2,
            "linecolor": "white",
            "showbackground": true,
            "ticks": "",
            "zerolinecolor": "white"
           },
           "zaxis": {
            "backgroundcolor": "#E5ECF6",
            "gridcolor": "white",
            "gridwidth": 2,
            "linecolor": "white",
            "showbackground": true,
            "ticks": "",
            "zerolinecolor": "white"
           }
          },
          "shapedefaults": {
           "line": {
            "color": "#2a3f5f"
           }
          },
          "ternary": {
           "aaxis": {
            "gridcolor": "white",
            "linecolor": "white",
            "ticks": ""
           },
           "baxis": {
            "gridcolor": "white",
            "linecolor": "white",
            "ticks": ""
           },
           "bgcolor": "#E5ECF6",
           "caxis": {
            "gridcolor": "white",
            "linecolor": "white",
            "ticks": ""
           }
          },
          "title": {
           "x": 0.05
          },
          "xaxis": {
           "automargin": true,
           "gridcolor": "white",
           "linecolor": "white",
           "ticks": "",
           "title": {
            "standoff": 15
           },
           "zerolinecolor": "white",
           "zerolinewidth": 2
          },
          "yaxis": {
           "automargin": true,
           "gridcolor": "white",
           "linecolor": "white",
           "ticks": "",
           "title": {
            "standoff": 15
           },
           "zerolinecolor": "white",
           "zerolinewidth": 2
          }
         }
        },
        "xaxis": {
         "anchor": "y",
         "domain": [
          0,
          1
         ],
         "title": {
          "text": "Years"
         }
        },
        "yaxis": {
         "anchor": "x",
         "domain": [
          0,
          1
         ],
         "range": [
          12281,
          0.9
         ],
         "title": {
          "text": "Rank"
         }
        }
       }
      }
     },
     "metadata": {},
     "output_type": "display_data"
    }
   ],
   "source": [
    "plot_name_rank(result_df,top_10_names_length_list)"
   ]
  }
 ],
 "metadata": {
  "interpreter": {
   "hash": "c2ee4b7f7eb954571bf947532a8780439ad7cc0706de47989c3983f8acf1841e"
  },
  "kernelspec": {
   "display_name": "Python 3.10.4 ('IBMDS3-10-4')",
   "language": "python",
   "name": "python3"
  },
  "language_info": {
   "codemirror_mode": {
    "name": "ipython",
    "version": 3
   },
   "file_extension": ".py",
   "mimetype": "text/x-python",
   "name": "python",
   "nbconvert_exporter": "python",
   "pygments_lexer": "ipython3",
   "version": "3.10.4"
  },
  "orig_nbformat": 4
 },
 "nbformat": 4,
 "nbformat_minor": 2
}
